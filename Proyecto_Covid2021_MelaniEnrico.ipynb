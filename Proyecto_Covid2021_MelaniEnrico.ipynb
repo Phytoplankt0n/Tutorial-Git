{
  "nbformat": 4,
  "nbformat_minor": 0,
  "metadata": {
    "colab": {
      "provenance": [],
      "toc_visible": true,
      "include_colab_link": true
    },
    "kernelspec": {
      "name": "python3",
      "display_name": "Python 3"
    }
  },
  "cells": [
    {
      "cell_type": "markdown",
      "metadata": {
        "id": "view-in-github",
        "colab_type": "text"
      },
      "source": [
        "<a href=\"https://colab.research.google.com/github/Phytoplankt0n/Tutorial-Git/blob/main/Proyecto_Covid2021_MelaniEnrico.ipynb\" target=\"_parent\"><img src=\"https://colab.research.google.com/assets/colab-badge.svg\" alt=\"Open In Colab\"/></a>"
      ]
    },
    {
      "cell_type": "markdown",
      "metadata": {
        "id": "e4dZ7IpMqtHz"
      },
      "source": [
        "<center>\n",
        "\n",
        "#**Análisis de la situación epidemiológica por COVID-19 en Rosario en el año 2021**\n",
        "\n",
        "**Melani Enrico**\n",
        "\n",
        "Proyecto Computacional Integrador\n",
        "\n",
        "Física Computacional 2021\n",
        "\n",
        "</center>\n"
      ]
    },
    {
      "cell_type": "markdown",
      "metadata": {
        "id": "4KonqyrJRXUr"
      },
      "source": [
        "\n",
        "\n",
        "---\n",
        "\n"
      ]
    },
    {
      "cell_type": "markdown",
      "metadata": {
        "id": "XRGusu7oRUdj"
      },
      "source": [
        "**RESUMEN**\n",
        "\n",
        "*En este trabajo se analizó la situación epidemiológica causada por el virus SARS-CoV-2 en la ciudad de Rosario en el año 2021.\n",
        "Para este fin se utilizaron las librerías Pandas, Matplotlib, NumPy y Seaborn de Python.*\n",
        "\n",
        "*A partir de este análisis se conlcuye que el distrito Centro fué el distrito con más casos durante el período analizado. La mayor cantidad de casos ocurrieron por contagio comunitario, y el sexo no juega un ningún rol en la enfermedad. También se observó que los factores de riesgo seleccionados (asma, diabetes, obesidad, bajo peso, fumador o ex fumador) no contribuyeron de forma significativa a las defunciones causadas por el virus en la ciudad.*\n",
        "\n",
        "*Se calculó además la tasa de letalidad del virus, el porcentaje de recuperados, la tasa de incidencia total y la razón de casos en la ciudad de Rosario y en Argentina, así como la tasa de incidencia por edad para grupos etarios de menores de 20 años, entre 20 y 60 años, mayores a 60 años en la ciudad de Rosario.*"
      ]
    },
    {
      "cell_type": "markdown",
      "metadata": {
        "id": "n1QFXd4_RdFa"
      },
      "source": [
        "\n",
        "\n",
        "---\n",
        "\n"
      ]
    },
    {
      "cell_type": "markdown",
      "metadata": {
        "id": "w6KLowmP9Y6s"
      },
      "source": [
        "# **INTRODUCCIÓN**\n",
        "\n",
        "El tema elegido para el proyecto de acreditación de la materia optativa Fisica Computacional fué el Análisis de la situación epidemiológica de la enfermedad COVID-19, una enfermedad infecciosa causada por el virus SARS-CoV-2, que originó un brote a finales del año 2019 y causó una pandemia en los años subsiguientes.\n",
        "\n",
        "Este tema se seleccionó por la gran cantidad de información disponible para hacer un análisis del impacto de la enfermedad en las personas.\n",
        "\n",
        "Además, se cuenta con mucha información ya disponible en internet para comparar los datos aquí obtenidos con los que circulan tanto en los medios, como en los canales oficiales de organizaciones de salud. En este caso, se tomó como referencia los datos publicados semanalmente por la secretaría de salud pública de la ciudad de Rosario para hacer un análisis de la situación en la ciudad, pero se tomaron los datos de los casos confirmados en el año 2021, publicados por la misma secretaría para trabajar.\n",
        "\n",
        "A raíz de esto, se analizan los casos confirmados por distrito, por caso epidemiológico, por sexo, el impacto de la enfermedad en personas con factores de riesgo y aspectos mas técnicos del área como la tasa de letalidad en Rosario, el porcentaje de recuperados, la tasa de incidencia por edad, la tasa de incidencia total y la razón de casos.\n",
        "\n",
        "Asimismo se utilizan datos abiertos sobre los casos en Argentina en el mismo año para comparar con los de la ciudad."
      ]
    },
    {
      "cell_type": "markdown",
      "metadata": {
        "id": "AKeF7i1gFBBR"
      },
      "source": [
        "\n",
        "\n",
        "---\n",
        "\n"
      ]
    },
    {
      "cell_type": "markdown",
      "metadata": {
        "id": "f-gORcMjC5v_"
      },
      "source": [
        "# **ASPECTOS TEÓRICOS Y ALGORÍTMICOS**\n",
        "\n",
        "En este proyecto se utilizarán las librerias Numpy, Pandas, Matplotlib y Seaborn.\n",
        "\n",
        "**NumPy:**  NumPy es una librería de Python especializada en el cálculo numérico y el análisis de datos, especialmente para un gran volumen de datos.\n",
        "Incorpora una nueva clase de objetos llamados arrays que permite representar colecciones de datos de un mismo tipo en varias dimensiones, y funciones muy eficientes para su manipulación.\n",
        "\n",
        "**Pandas:** Pandas es una librería de código abierto muy popular de Python dentro del ámbito de Data Science y Machine Learning, ya que ofrece unas estructuras muy poderosas y flexibles que facilitan la manipulación y tratamiento de datos.\n",
        "\n",
        "Las dos estructuras de datos principales dentro del paquete Pandas son:\n",
        "\n",
        "    Series: array unidimensional etiquetado capaz de almacenar cualquier tipo de dato.\n",
        "\n",
        "    DataFrame: estructura bidimensional con columnas que pueden ser también de cualquier tipo. Estas columnas son a su vez Series.\n",
        "\n",
        "**Matplotlib:** matplotlib es una librería para graficar de Python que produce figuras de calidad en una variedad de formatos y entornos a través de distintas plataformas. Matplotlib sirve para generar gráficos, histogramas, espectros de potencia, gráficos de barra, gráficos de error, gráficos de dispersión y más, con solo unas pocas lineas de código.\n",
        "\n",
        "\n",
        "**Seaborn:** Seaborn es una librería de visualización de Python basada en matplotlib. Provee una interfase de alto nivel para crear gráficas estadísticas tanto atractivas como informativas. Seaborn ayuda a explorar y entender la data. Sus funciones operan en dataframes y arrays que contienen los sets de datos completos e internamente ejecutan el mapeo necesario y la agregación estadística para producir plots informativos.\n",
        "\n",
        "Se utilizan los datos abiertos sobre COVID-19 en la ciudad de Rosario de los años 2020 y 2021, extraidos de la página oficial de la [Municipalidad de Rosario](https://datosabiertos.rosario.gob.ar/dataset/coronavirus-covid-19).\n",
        "\n",
        "También se utilizan los datos abiertos en la Argentina de esos mismos años publicados por [Our World In Data](https://ourworldindata.org/coronavirus/country/argentina).\n",
        "\n",
        "Además, será necesario contar con algunas definiciones propias del área de epidemiología para hacer el análisis presentado.\n",
        "\n",
        "***Tasa:*** Las tasas expresan la dinámica de un suceso en una población a lo largo del tiempo. Se pueden definir como la magnitud del cambio d euna variable (enfermedad o muerte) por unidad de cambio de otra (tiempo) en relación con el tamaño de la población que se encuentra en riesgo de experimentar el suceso.\n",
        "\n",
        "Luego, la tasa se calcula como sigue:\n",
        "$$Tasa=\\frac{A}{B} \\times 10^n$$\n",
        "\n",
        "Donde $A$=Número eventos en una población en un período t, y $B$=Sumatoria de los períodos durante los cuales los sujetos de la población libres del evento estuvieron expuestos al riesgo de presentarlo, y se multiplica la fracción por una potencia de 10.\n",
        "\n",
        "La ***tasa de letalidad*** abreviado como TL (o CFR del inglés: Case Fatality Rate) es la proporción de personas que mueren por una enfermedad entre los afectados por la misma en un periodo y área determinados. Es un indicador de la virulencia o de la gravedad de una enfermedad.\n",
        "\n",
        "Es difícil de calcular porque es preciso registrar todos los enfermos por esa enfermedad y en muchas enfermedades los casos asintomáticos o leves no son declarados.\n",
        "\n",
        "Su fórmula se escribe como: $$TL=\\frac{A}{B}\\times 100$$\n",
        "\n",
        "Donde $TL$ es la tasa de letalidad, $A$ es el número de muertes por una enfermedad en un periodo y área determinados y $B$ es el número de casos diagnosticados por la misma enfermedad en el mismo periodo y área.\n",
        "\n",
        "El ***porcentaje de recuperados*** se calcula de forma análoga reemplazando $A$ por el número de personas que se recuperaron.\n",
        "\n",
        "***Incidencia:*** El interés está dirigido a la medición del flujo que se establece entre la salud y la enfermedad, es decir, a la aparición de casos nuevos. La medida epidemiológica que mejor expresa este cambio de estado es la incidencia, la cual indica la frecuencia con la que ocurren nuevos eventos.\n",
        "\n",
        "***Tasa de incidencia:*** La tasa de incidencia (TI) es la principal medida de frecuencia de enfermedad y se define como “el potencial instantáneo de cambio en el estado de salud por unidad de tiempo, durante un periodo específico, en relación con el tamaño de la población susceptible en el mismo periodo”.\n",
        "\n",
        "La fórmula general para el cálculo de la tasa de incidencia es\n",
        "la siguiente:\n",
        "\n",
        "$$TI=\\frac{A}{B}$$\n",
        "\n",
        "Donde $A$=Número de casos nuevos, y $B$=población expuesta al riesgo para sufrir la enfermedad o fenómeno correspondiente durante dicho período.\n",
        "\n",
        "***Incidencia acumulada:*** La incidencia acumulada (IA) se puede definir como la probabilidad, o riesgo medio de los miembros de una población, de contraer una enfermedad en un período específico. Se calcula de la siguiente forma:\n",
        "\n",
        "$$IA=\\frac{A}{B}$$\n",
        "\n",
        "Donde $A$= Número de personas que contraen la enfermedad en un período determinado, y $B$= Número de personas libres de la enfermedad en la población expuesta al riesgo en el inicio del estudio.\n",
        "\n",
        "La ***razón de casos confirmados*** se define como el cociente entre el total de casos confirmados de el último período y el total de casos confirmados al período previo. Este indicador permite observar el aumento o descenso de casos del último período en relación con el período anterior.\n",
        "\n",
        "Ref: Wikipedia: Tasa de letalidad (https://es.wikipedia.org/wiki/Tasa_de_letalidad), Moreno-Altamirano A y col. (2000). Principales medidas en epidemiología. Mexico: Salud pública de méxico.\n",
        "\n"
      ]
    },
    {
      "cell_type": "markdown",
      "metadata": {
        "id": "G0kSfNwxFMJB"
      },
      "source": [
        "\n",
        "\n",
        "---\n",
        "\n"
      ]
    },
    {
      "cell_type": "markdown",
      "metadata": {
        "id": "RLW7ANqMq_Ah"
      },
      "source": [
        "# **RESULTADOS OBTENIDOS**\n"
      ]
    },
    {
      "cell_type": "markdown",
      "source": [
        "En este proyecto se utilizarán las siguientes librerias:"
      ],
      "metadata": {
        "id": "yD6pN4TAK4bK"
      }
    },
    {
      "cell_type": "code",
      "source": [
        "#CE 1\n",
        "import pandas as pd\n",
        "import matplotlib.pyplot as plt\n",
        "import numpy as np\n",
        "import seaborn as sns\n",
        "from sklearn.pipeline import Pipeline\n",
        "from sklearn.preprocessing import StandardScaler,PolynomialFeatures\n",
        "from sklearn.linear_model import LinearRegression\n",
        "%matplotlib inline"
      ],
      "metadata": {
        "id": "CKCnym3NLEnF"
      },
      "execution_count": null,
      "outputs": []
    },
    {
      "cell_type": "markdown",
      "source": [
        "# Importación de datos"
      ],
      "metadata": {
        "id": "FoAgh4URLNe6"
      }
    },
    {
      "cell_type": "markdown",
      "source": [
        "Lo primero a hacer es importar el archivo de datos con el que se trabajará a lo largo del proyecto. Luego, con la librería pandas, se lee el archivo .csv y se pasa a formato *dataframe*. Este formato es una tabla bidimensional que ayudará a tener una mejor visualización de los datos."
      ],
      "metadata": {
        "id": "um8-pFeULZ2g"
      }
    },
    {
      "cell_type": "code",
      "source": [
        "#CE 2\n",
        "nombre_archivo='https://datosabiertos.rosario.gob.ar/sites/default/files/confirmadoscovid19sisarosario2021_0.csv'\n",
        "df=pd.read_csv(nombre_archivo)\n",
        "#Ref: Datos abiertos de Covid-19. Municipalidad de Rosario."
      ],
      "metadata": {
        "colab": {
          "base_uri": "https://localhost:8080/"
        },
        "id": "tpJ_ZY_WLi5M",
        "outputId": "3c3566b0-5b64-4eed-fca4-3e21dd75c928"
      },
      "execution_count": null,
      "outputs": [
        {
          "output_type": "stream",
          "name": "stderr",
          "text": [
            "/usr/local/lib/python3.7/dist-packages/IPython/core/interactiveshell.py:2882: DtypeWarning: Columns (32) have mixed types.Specify dtype option on import or set low_memory=False.\n",
            "  exec(code_obj, self.user_global_ns, self.user_ns)\n"
          ]
        }
      ]
    },
    {
      "cell_type": "markdown",
      "source": [
        "Para corroborar que el archivo se importó correctamente, se imprimen las primeras 5 filas con el método `head.`"
      ],
      "metadata": {
        "id": "h7Zlot1sLwNN"
      }
    },
    {
      "cell_type": "code",
      "source": [
        "#CE 3\n",
        "df.head()"
      ],
      "metadata": {
        "colab": {
          "base_uri": "https://localhost:8080/",
          "height": 421
        },
        "id": "tA315gEjL87N",
        "outputId": "f652fa63-41cb-4b34-e876-8ebdc0fd65dd"
      },
      "execution_count": null,
      "outputs": [
        {
          "output_type": "execute_result",
          "data": {
            "text/plain": [
              "  'SEXO' 'EDAD_ACTUAL'                                    'SIGNO_SINTOMA'  \\\n",
              "0    'F'          '70'                                                 ''   \n",
              "1    'M'          '70'                'Malestar general; Odinofagia; Tos'   \n",
              "2    'F'          '70'  'Cefalea; Fiebre (mayor o igual a 38°); Malest...   \n",
              "3    'M'          '28'                                                 ''   \n",
              "4    'M'          '56'  'Disnea; Fiebre (mayor o igual a 38°); Taquipn...   \n",
              "\n",
              "          'FIS'     'MIN_FTM' 'FECHA_FALLECIMIENTO' 'CLASIFICACION'  \\\n",
              "0  '19/07/2021'  '20/07/2021'                    ''       'Público'   \n",
              "1  '15/04/2021'  '20/04/2021'                    ''       'Público'   \n",
              "2  '23/04/2021'  '26/04/2021'          '18/05/2021'       'Público'   \n",
              "3  '27/05/2021'  '29/05/2021'                    ''       'Público'   \n",
              "4  '04/05/2021'  '14/05/2021'                    ''       'Público'   \n",
              "\n",
              "  'CLASIF_EPIDEMIO' 'ASMA' 'BAJO_PESO'  ... 'PREMATURO' 'SIN_COMORB' 'TBC'  \\\n",
              "0     'Comunitario'    '0'         '0'  ...         '0'          '0'   '0'   \n",
              "1        'Contacto'    '0'         '0'  ...         '0'          '0'   '0'   \n",
              "2     'Comunitario'    '0'         '0'  ...         '0'          '0'   '0'   \n",
              "3     'Comunitario'    '0'         '0'  ...         '0'          '0'   '0'   \n",
              "4     'Comunitario'    '0'         '0'  ...         '0'          '0'   '0'   \n",
              "\n",
              "  'EX_FUMADOR' 'FUMADOR' 'DIALISIS_AGUDA' 'DIALISIS_CRONICA' 'EMBARAZADA'  \\\n",
              "0          '0'       '0'              '0'                '0'         'NO'   \n",
              "1          '0'       '0'              '0'                '0'           ''   \n",
              "2          '0'       '0'              '0'                '0'         'NO'   \n",
              "3          '0'       '0'              '0'                '0'           ''   \n",
              "4          '0'       '1'              '0'                '0'           ''   \n",
              "\n",
              "  'distrito' 'fraccioncensal'  \n",
              "0      OESTE               33  \n",
              "1      NORTE               07  \n",
              "2        NaN              NaN  \n",
              "3   NOROESTE               12  \n",
              "4   NOROESTE               13  \n",
              "\n",
              "[5 rows x 33 columns]"
            ],
            "text/html": [
              "\n",
              "  <div id=\"df-6a06bad4-87ca-4493-b414-5c9160b7b05f\">\n",
              "    <div class=\"colab-df-container\">\n",
              "      <div>\n",
              "<style scoped>\n",
              "    .dataframe tbody tr th:only-of-type {\n",
              "        vertical-align: middle;\n",
              "    }\n",
              "\n",
              "    .dataframe tbody tr th {\n",
              "        vertical-align: top;\n",
              "    }\n",
              "\n",
              "    .dataframe thead th {\n",
              "        text-align: right;\n",
              "    }\n",
              "</style>\n",
              "<table border=\"1\" class=\"dataframe\">\n",
              "  <thead>\n",
              "    <tr style=\"text-align: right;\">\n",
              "      <th></th>\n",
              "      <th>'SEXO'</th>\n",
              "      <th>'EDAD_ACTUAL'</th>\n",
              "      <th>'SIGNO_SINTOMA'</th>\n",
              "      <th>'FIS'</th>\n",
              "      <th>'MIN_FTM'</th>\n",
              "      <th>'FECHA_FALLECIMIENTO'</th>\n",
              "      <th>'CLASIFICACION'</th>\n",
              "      <th>'CLASIF_EPIDEMIO'</th>\n",
              "      <th>'ASMA'</th>\n",
              "      <th>'BAJO_PESO'</th>\n",
              "      <th>...</th>\n",
              "      <th>'PREMATURO'</th>\n",
              "      <th>'SIN_COMORB'</th>\n",
              "      <th>'TBC'</th>\n",
              "      <th>'EX_FUMADOR'</th>\n",
              "      <th>'FUMADOR'</th>\n",
              "      <th>'DIALISIS_AGUDA'</th>\n",
              "      <th>'DIALISIS_CRONICA'</th>\n",
              "      <th>'EMBARAZADA'</th>\n",
              "      <th>'distrito'</th>\n",
              "      <th>'fraccioncensal'</th>\n",
              "    </tr>\n",
              "  </thead>\n",
              "  <tbody>\n",
              "    <tr>\n",
              "      <th>0</th>\n",
              "      <td>'F'</td>\n",
              "      <td>'70'</td>\n",
              "      <td>''</td>\n",
              "      <td>'19/07/2021'</td>\n",
              "      <td>'20/07/2021'</td>\n",
              "      <td>''</td>\n",
              "      <td>'Público'</td>\n",
              "      <td>'Comunitario'</td>\n",
              "      <td>'0'</td>\n",
              "      <td>'0'</td>\n",
              "      <td>...</td>\n",
              "      <td>'0'</td>\n",
              "      <td>'0'</td>\n",
              "      <td>'0'</td>\n",
              "      <td>'0'</td>\n",
              "      <td>'0'</td>\n",
              "      <td>'0'</td>\n",
              "      <td>'0'</td>\n",
              "      <td>'NO'</td>\n",
              "      <td>OESTE</td>\n",
              "      <td>33</td>\n",
              "    </tr>\n",
              "    <tr>\n",
              "      <th>1</th>\n",
              "      <td>'M'</td>\n",
              "      <td>'70'</td>\n",
              "      <td>'Malestar general; Odinofagia; Tos'</td>\n",
              "      <td>'15/04/2021'</td>\n",
              "      <td>'20/04/2021'</td>\n",
              "      <td>''</td>\n",
              "      <td>'Público'</td>\n",
              "      <td>'Contacto'</td>\n",
              "      <td>'0'</td>\n",
              "      <td>'0'</td>\n",
              "      <td>...</td>\n",
              "      <td>'0'</td>\n",
              "      <td>'0'</td>\n",
              "      <td>'0'</td>\n",
              "      <td>'0'</td>\n",
              "      <td>'0'</td>\n",
              "      <td>'0'</td>\n",
              "      <td>'0'</td>\n",
              "      <td>''</td>\n",
              "      <td>NORTE</td>\n",
              "      <td>07</td>\n",
              "    </tr>\n",
              "    <tr>\n",
              "      <th>2</th>\n",
              "      <td>'F'</td>\n",
              "      <td>'70'</td>\n",
              "      <td>'Cefalea; Fiebre (mayor o igual a 38°); Malest...</td>\n",
              "      <td>'23/04/2021'</td>\n",
              "      <td>'26/04/2021'</td>\n",
              "      <td>'18/05/2021'</td>\n",
              "      <td>'Público'</td>\n",
              "      <td>'Comunitario'</td>\n",
              "      <td>'0'</td>\n",
              "      <td>'0'</td>\n",
              "      <td>...</td>\n",
              "      <td>'0'</td>\n",
              "      <td>'0'</td>\n",
              "      <td>'0'</td>\n",
              "      <td>'0'</td>\n",
              "      <td>'0'</td>\n",
              "      <td>'0'</td>\n",
              "      <td>'0'</td>\n",
              "      <td>'NO'</td>\n",
              "      <td>NaN</td>\n",
              "      <td>NaN</td>\n",
              "    </tr>\n",
              "    <tr>\n",
              "      <th>3</th>\n",
              "      <td>'M'</td>\n",
              "      <td>'28'</td>\n",
              "      <td>''</td>\n",
              "      <td>'27/05/2021'</td>\n",
              "      <td>'29/05/2021'</td>\n",
              "      <td>''</td>\n",
              "      <td>'Público'</td>\n",
              "      <td>'Comunitario'</td>\n",
              "      <td>'0'</td>\n",
              "      <td>'0'</td>\n",
              "      <td>...</td>\n",
              "      <td>'0'</td>\n",
              "      <td>'0'</td>\n",
              "      <td>'0'</td>\n",
              "      <td>'0'</td>\n",
              "      <td>'0'</td>\n",
              "      <td>'0'</td>\n",
              "      <td>'0'</td>\n",
              "      <td>''</td>\n",
              "      <td>NOROESTE</td>\n",
              "      <td>12</td>\n",
              "    </tr>\n",
              "    <tr>\n",
              "      <th>4</th>\n",
              "      <td>'M'</td>\n",
              "      <td>'56'</td>\n",
              "      <td>'Disnea; Fiebre (mayor o igual a 38°); Taquipn...</td>\n",
              "      <td>'04/05/2021'</td>\n",
              "      <td>'14/05/2021'</td>\n",
              "      <td>''</td>\n",
              "      <td>'Público'</td>\n",
              "      <td>'Comunitario'</td>\n",
              "      <td>'0'</td>\n",
              "      <td>'0'</td>\n",
              "      <td>...</td>\n",
              "      <td>'0'</td>\n",
              "      <td>'0'</td>\n",
              "      <td>'0'</td>\n",
              "      <td>'0'</td>\n",
              "      <td>'1'</td>\n",
              "      <td>'0'</td>\n",
              "      <td>'0'</td>\n",
              "      <td>''</td>\n",
              "      <td>NOROESTE</td>\n",
              "      <td>13</td>\n",
              "    </tr>\n",
              "  </tbody>\n",
              "</table>\n",
              "<p>5 rows × 33 columns</p>\n",
              "</div>\n",
              "      <button class=\"colab-df-convert\" onclick=\"convertToInteractive('df-6a06bad4-87ca-4493-b414-5c9160b7b05f')\"\n",
              "              title=\"Convert this dataframe to an interactive table.\"\n",
              "              style=\"display:none;\">\n",
              "        \n",
              "  <svg xmlns=\"http://www.w3.org/2000/svg\" height=\"24px\"viewBox=\"0 0 24 24\"\n",
              "       width=\"24px\">\n",
              "    <path d=\"M0 0h24v24H0V0z\" fill=\"none\"/>\n",
              "    <path d=\"M18.56 5.44l.94 2.06.94-2.06 2.06-.94-2.06-.94-.94-2.06-.94 2.06-2.06.94zm-11 1L8.5 8.5l.94-2.06 2.06-.94-2.06-.94L8.5 2.5l-.94 2.06-2.06.94zm10 10l.94 2.06.94-2.06 2.06-.94-2.06-.94-.94-2.06-.94 2.06-2.06.94z\"/><path d=\"M17.41 7.96l-1.37-1.37c-.4-.4-.92-.59-1.43-.59-.52 0-1.04.2-1.43.59L10.3 9.45l-7.72 7.72c-.78.78-.78 2.05 0 2.83L4 21.41c.39.39.9.59 1.41.59.51 0 1.02-.2 1.41-.59l7.78-7.78 2.81-2.81c.8-.78.8-2.07 0-2.86zM5.41 20L4 18.59l7.72-7.72 1.47 1.35L5.41 20z\"/>\n",
              "  </svg>\n",
              "      </button>\n",
              "      \n",
              "  <style>\n",
              "    .colab-df-container {\n",
              "      display:flex;\n",
              "      flex-wrap:wrap;\n",
              "      gap: 12px;\n",
              "    }\n",
              "\n",
              "    .colab-df-convert {\n",
              "      background-color: #E8F0FE;\n",
              "      border: none;\n",
              "      border-radius: 50%;\n",
              "      cursor: pointer;\n",
              "      display: none;\n",
              "      fill: #1967D2;\n",
              "      height: 32px;\n",
              "      padding: 0 0 0 0;\n",
              "      width: 32px;\n",
              "    }\n",
              "\n",
              "    .colab-df-convert:hover {\n",
              "      background-color: #E2EBFA;\n",
              "      box-shadow: 0px 1px 2px rgba(60, 64, 67, 0.3), 0px 1px 3px 1px rgba(60, 64, 67, 0.15);\n",
              "      fill: #174EA6;\n",
              "    }\n",
              "\n",
              "    [theme=dark] .colab-df-convert {\n",
              "      background-color: #3B4455;\n",
              "      fill: #D2E3FC;\n",
              "    }\n",
              "\n",
              "    [theme=dark] .colab-df-convert:hover {\n",
              "      background-color: #434B5C;\n",
              "      box-shadow: 0px 1px 3px 1px rgba(0, 0, 0, 0.15);\n",
              "      filter: drop-shadow(0px 1px 2px rgba(0, 0, 0, 0.3));\n",
              "      fill: #FFFFFF;\n",
              "    }\n",
              "  </style>\n",
              "\n",
              "      <script>\n",
              "        const buttonEl =\n",
              "          document.querySelector('#df-6a06bad4-87ca-4493-b414-5c9160b7b05f button.colab-df-convert');\n",
              "        buttonEl.style.display =\n",
              "          google.colab.kernel.accessAllowed ? 'block' : 'none';\n",
              "\n",
              "        async function convertToInteractive(key) {\n",
              "          const element = document.querySelector('#df-6a06bad4-87ca-4493-b414-5c9160b7b05f');\n",
              "          const dataTable =\n",
              "            await google.colab.kernel.invokeFunction('convertToInteractive',\n",
              "                                                     [key], {});\n",
              "          if (!dataTable) return;\n",
              "\n",
              "          const docLinkHtml = 'Like what you see? Visit the ' +\n",
              "            '<a target=\"_blank\" href=https://colab.research.google.com/notebooks/data_table.ipynb>data table notebook</a>'\n",
              "            + ' to learn more about interactive tables.';\n",
              "          element.innerHTML = '';\n",
              "          dataTable['output_type'] = 'display_data';\n",
              "          await google.colab.output.renderOutput(dataTable, element);\n",
              "          const docLink = document.createElement('div');\n",
              "          docLink.innerHTML = docLinkHtml;\n",
              "          element.appendChild(docLink);\n",
              "        }\n",
              "      </script>\n",
              "    </div>\n",
              "  </div>\n",
              "  "
            ]
          },
          "metadata": {},
          "execution_count": 12
        }
      ]
    },
    {
      "cell_type": "markdown",
      "source": [
        "Se pide que se muestren los tipo de datos que se tienen con la función `dtypes`"
      ],
      "metadata": {
        "id": "UPeJkayRNLNT"
      }
    },
    {
      "cell_type": "code",
      "source": [
        "#CE 4\n",
        "df.dtypes"
      ],
      "metadata": {
        "colab": {
          "base_uri": "https://localhost:8080/"
        },
        "id": "bIv66jqNNXbD",
        "outputId": "0fc52f5f-6a2e-43cd-94e4-859bfb4da4be"
      },
      "execution_count": null,
      "outputs": [
        {
          "output_type": "execute_result",
          "data": {
            "text/plain": [
              "'SEXO'                   object\n",
              "'EDAD_ACTUAL'            object\n",
              "'SIGNO_SINTOMA'          object\n",
              "'FIS'                    object\n",
              "'MIN_FTM'                object\n",
              "'FECHA_FALLECIMIENTO'    object\n",
              "'CLASIFICACION'          object\n",
              "'CLASIF_EPIDEMIO'        object\n",
              "'ASMA'                   object\n",
              "'BAJO_PESO'              object\n",
              "'BRONQUIO_PREVIA'        object\n",
              "'DBT'                    object\n",
              "'EMBARAZO'               object\n",
              "'ENF_NEURO_PREVIA'       object\n",
              "'ENF_ONCO_PREVIA'        object\n",
              "'EPOC'                   object\n",
              "'HEPATO_CRONICA'         object\n",
              "'HTA'                    object\n",
              "'INMUNOS_CONGENITA'      object\n",
              "'INSF_CARDIACA'          object\n",
              "'INSF_RENAL'             object\n",
              "'NAC_PREVIA'             object\n",
              "'OBESIDAD'               object\n",
              "'PREMATURO'              object\n",
              "'SIN_COMORB'             object\n",
              "'TBC'                    object\n",
              "'EX_FUMADOR'             object\n",
              "'FUMADOR'                object\n",
              "'DIALISIS_AGUDA'         object\n",
              "'DIALISIS_CRONICA'       object\n",
              "'EMBARAZADA'             object\n",
              "'distrito'               object\n",
              "'fraccioncensal'         object\n",
              "dtype: object"
            ]
          },
          "metadata": {},
          "execution_count": 13
        }
      ]
    },
    {
      "cell_type": "markdown",
      "source": [
        "Como todos los tipos de datos que se tienen son *objeto*, se debe usar como parámetro `(include='all')` dentro de la función `describe` para que esta función devuelva un resúmen estadístico de los valores de cada columna que incluya los objetos."
      ],
      "metadata": {
        "id": "zxR7uNViPGk3"
      }
    },
    {
      "cell_type": "code",
      "source": [
        "#CE 5\n",
        "df.describe(include='all')"
      ],
      "metadata": {
        "colab": {
          "base_uri": "https://localhost:8080/",
          "height": 268
        },
        "id": "eS5AkTGyO_CW",
        "outputId": "08fbc46e-1214-4294-b6be-a5298aeb9986"
      },
      "execution_count": null,
      "outputs": [
        {
          "output_type": "execute_result",
          "data": {
            "text/plain": [
              "        'SEXO' 'EDAD_ACTUAL' 'SIGNO_SINTOMA'   'FIS' 'MIN_FTM'  \\\n",
              "count   105713        105713          105713  105713    105713   \n",
              "unique       5           108            5089     366       442   \n",
              "top        'F'          '30'              ''      ''        ''   \n",
              "freq     55516          2796           59238   35072      5116   \n",
              "\n",
              "       'FECHA_FALLECIMIENTO' 'CLASIFICACION' 'CLASIF_EPIDEMIO'  'ASMA'  \\\n",
              "count                 105713          105713            105713  105713   \n",
              "unique                   289               2                 6       2   \n",
              "top                       ''       'Público'     'Comunitario'     '0'   \n",
              "freq                  103754           73520             81473  103932   \n",
              "\n",
              "       'BAJO_PESO'  ... 'PREMATURO' 'SIN_COMORB'   'TBC' 'EX_FUMADOR'  \\\n",
              "count       105713  ...      105713       105713  105713       105713   \n",
              "unique           2  ...           2            2       2            2   \n",
              "top            '0'  ...         '0'          '0'     '0'          '0'   \n",
              "freq        105696  ...      105664        88350  105665       104759   \n",
              "\n",
              "       'FUMADOR' 'DIALISIS_AGUDA' 'DIALISIS_CRONICA' 'EMBARAZADA' 'distrito'  \\\n",
              "count     105713           105713             105713       105713      97177   \n",
              "unique         2                2                  2            4          7   \n",
              "top          '0'              '0'                '0'           ''     CENTRO   \n",
              "freq      103142           105692             105632        66870      30604   \n",
              "\n",
              "       'fraccioncensal'  \n",
              "count             97177  \n",
              "unique              113  \n",
              "top                  32  \n",
              "freq               2949  \n",
              "\n",
              "[4 rows x 33 columns]"
            ],
            "text/html": [
              "\n",
              "  <div id=\"df-f90aa4dc-461f-4d2c-bd30-6a3aa8871c8e\">\n",
              "    <div class=\"colab-df-container\">\n",
              "      <div>\n",
              "<style scoped>\n",
              "    .dataframe tbody tr th:only-of-type {\n",
              "        vertical-align: middle;\n",
              "    }\n",
              "\n",
              "    .dataframe tbody tr th {\n",
              "        vertical-align: top;\n",
              "    }\n",
              "\n",
              "    .dataframe thead th {\n",
              "        text-align: right;\n",
              "    }\n",
              "</style>\n",
              "<table border=\"1\" class=\"dataframe\">\n",
              "  <thead>\n",
              "    <tr style=\"text-align: right;\">\n",
              "      <th></th>\n",
              "      <th>'SEXO'</th>\n",
              "      <th>'EDAD_ACTUAL'</th>\n",
              "      <th>'SIGNO_SINTOMA'</th>\n",
              "      <th>'FIS'</th>\n",
              "      <th>'MIN_FTM'</th>\n",
              "      <th>'FECHA_FALLECIMIENTO'</th>\n",
              "      <th>'CLASIFICACION'</th>\n",
              "      <th>'CLASIF_EPIDEMIO'</th>\n",
              "      <th>'ASMA'</th>\n",
              "      <th>'BAJO_PESO'</th>\n",
              "      <th>...</th>\n",
              "      <th>'PREMATURO'</th>\n",
              "      <th>'SIN_COMORB'</th>\n",
              "      <th>'TBC'</th>\n",
              "      <th>'EX_FUMADOR'</th>\n",
              "      <th>'FUMADOR'</th>\n",
              "      <th>'DIALISIS_AGUDA'</th>\n",
              "      <th>'DIALISIS_CRONICA'</th>\n",
              "      <th>'EMBARAZADA'</th>\n",
              "      <th>'distrito'</th>\n",
              "      <th>'fraccioncensal'</th>\n",
              "    </tr>\n",
              "  </thead>\n",
              "  <tbody>\n",
              "    <tr>\n",
              "      <th>count</th>\n",
              "      <td>105713</td>\n",
              "      <td>105713</td>\n",
              "      <td>105713</td>\n",
              "      <td>105713</td>\n",
              "      <td>105713</td>\n",
              "      <td>105713</td>\n",
              "      <td>105713</td>\n",
              "      <td>105713</td>\n",
              "      <td>105713</td>\n",
              "      <td>105713</td>\n",
              "      <td>...</td>\n",
              "      <td>105713</td>\n",
              "      <td>105713</td>\n",
              "      <td>105713</td>\n",
              "      <td>105713</td>\n",
              "      <td>105713</td>\n",
              "      <td>105713</td>\n",
              "      <td>105713</td>\n",
              "      <td>105713</td>\n",
              "      <td>97177</td>\n",
              "      <td>97177</td>\n",
              "    </tr>\n",
              "    <tr>\n",
              "      <th>unique</th>\n",
              "      <td>5</td>\n",
              "      <td>108</td>\n",
              "      <td>5089</td>\n",
              "      <td>366</td>\n",
              "      <td>442</td>\n",
              "      <td>289</td>\n",
              "      <td>2</td>\n",
              "      <td>6</td>\n",
              "      <td>2</td>\n",
              "      <td>2</td>\n",
              "      <td>...</td>\n",
              "      <td>2</td>\n",
              "      <td>2</td>\n",
              "      <td>2</td>\n",
              "      <td>2</td>\n",
              "      <td>2</td>\n",
              "      <td>2</td>\n",
              "      <td>2</td>\n",
              "      <td>4</td>\n",
              "      <td>7</td>\n",
              "      <td>113</td>\n",
              "    </tr>\n",
              "    <tr>\n",
              "      <th>top</th>\n",
              "      <td>'F'</td>\n",
              "      <td>'30'</td>\n",
              "      <td>''</td>\n",
              "      <td>''</td>\n",
              "      <td>''</td>\n",
              "      <td>''</td>\n",
              "      <td>'Público'</td>\n",
              "      <td>'Comunitario'</td>\n",
              "      <td>'0'</td>\n",
              "      <td>'0'</td>\n",
              "      <td>...</td>\n",
              "      <td>'0'</td>\n",
              "      <td>'0'</td>\n",
              "      <td>'0'</td>\n",
              "      <td>'0'</td>\n",
              "      <td>'0'</td>\n",
              "      <td>'0'</td>\n",
              "      <td>'0'</td>\n",
              "      <td>''</td>\n",
              "      <td>CENTRO</td>\n",
              "      <td>32</td>\n",
              "    </tr>\n",
              "    <tr>\n",
              "      <th>freq</th>\n",
              "      <td>55516</td>\n",
              "      <td>2796</td>\n",
              "      <td>59238</td>\n",
              "      <td>35072</td>\n",
              "      <td>5116</td>\n",
              "      <td>103754</td>\n",
              "      <td>73520</td>\n",
              "      <td>81473</td>\n",
              "      <td>103932</td>\n",
              "      <td>105696</td>\n",
              "      <td>...</td>\n",
              "      <td>105664</td>\n",
              "      <td>88350</td>\n",
              "      <td>105665</td>\n",
              "      <td>104759</td>\n",
              "      <td>103142</td>\n",
              "      <td>105692</td>\n",
              "      <td>105632</td>\n",
              "      <td>66870</td>\n",
              "      <td>30604</td>\n",
              "      <td>2949</td>\n",
              "    </tr>\n",
              "  </tbody>\n",
              "</table>\n",
              "<p>4 rows × 33 columns</p>\n",
              "</div>\n",
              "      <button class=\"colab-df-convert\" onclick=\"convertToInteractive('df-f90aa4dc-461f-4d2c-bd30-6a3aa8871c8e')\"\n",
              "              title=\"Convert this dataframe to an interactive table.\"\n",
              "              style=\"display:none;\">\n",
              "        \n",
              "  <svg xmlns=\"http://www.w3.org/2000/svg\" height=\"24px\"viewBox=\"0 0 24 24\"\n",
              "       width=\"24px\">\n",
              "    <path d=\"M0 0h24v24H0V0z\" fill=\"none\"/>\n",
              "    <path d=\"M18.56 5.44l.94 2.06.94-2.06 2.06-.94-2.06-.94-.94-2.06-.94 2.06-2.06.94zm-11 1L8.5 8.5l.94-2.06 2.06-.94-2.06-.94L8.5 2.5l-.94 2.06-2.06.94zm10 10l.94 2.06.94-2.06 2.06-.94-2.06-.94-.94-2.06-.94 2.06-2.06.94z\"/><path d=\"M17.41 7.96l-1.37-1.37c-.4-.4-.92-.59-1.43-.59-.52 0-1.04.2-1.43.59L10.3 9.45l-7.72 7.72c-.78.78-.78 2.05 0 2.83L4 21.41c.39.39.9.59 1.41.59.51 0 1.02-.2 1.41-.59l7.78-7.78 2.81-2.81c.8-.78.8-2.07 0-2.86zM5.41 20L4 18.59l7.72-7.72 1.47 1.35L5.41 20z\"/>\n",
              "  </svg>\n",
              "      </button>\n",
              "      \n",
              "  <style>\n",
              "    .colab-df-container {\n",
              "      display:flex;\n",
              "      flex-wrap:wrap;\n",
              "      gap: 12px;\n",
              "    }\n",
              "\n",
              "    .colab-df-convert {\n",
              "      background-color: #E8F0FE;\n",
              "      border: none;\n",
              "      border-radius: 50%;\n",
              "      cursor: pointer;\n",
              "      display: none;\n",
              "      fill: #1967D2;\n",
              "      height: 32px;\n",
              "      padding: 0 0 0 0;\n",
              "      width: 32px;\n",
              "    }\n",
              "\n",
              "    .colab-df-convert:hover {\n",
              "      background-color: #E2EBFA;\n",
              "      box-shadow: 0px 1px 2px rgba(60, 64, 67, 0.3), 0px 1px 3px 1px rgba(60, 64, 67, 0.15);\n",
              "      fill: #174EA6;\n",
              "    }\n",
              "\n",
              "    [theme=dark] .colab-df-convert {\n",
              "      background-color: #3B4455;\n",
              "      fill: #D2E3FC;\n",
              "    }\n",
              "\n",
              "    [theme=dark] .colab-df-convert:hover {\n",
              "      background-color: #434B5C;\n",
              "      box-shadow: 0px 1px 3px 1px rgba(0, 0, 0, 0.15);\n",
              "      filter: drop-shadow(0px 1px 2px rgba(0, 0, 0, 0.3));\n",
              "      fill: #FFFFFF;\n",
              "    }\n",
              "  </style>\n",
              "\n",
              "      <script>\n",
              "        const buttonEl =\n",
              "          document.querySelector('#df-f90aa4dc-461f-4d2c-bd30-6a3aa8871c8e button.colab-df-convert');\n",
              "        buttonEl.style.display =\n",
              "          google.colab.kernel.accessAllowed ? 'block' : 'none';\n",
              "\n",
              "        async function convertToInteractive(key) {\n",
              "          const element = document.querySelector('#df-f90aa4dc-461f-4d2c-bd30-6a3aa8871c8e');\n",
              "          const dataTable =\n",
              "            await google.colab.kernel.invokeFunction('convertToInteractive',\n",
              "                                                     [key], {});\n",
              "          if (!dataTable) return;\n",
              "\n",
              "          const docLinkHtml = 'Like what you see? Visit the ' +\n",
              "            '<a target=\"_blank\" href=https://colab.research.google.com/notebooks/data_table.ipynb>data table notebook</a>'\n",
              "            + ' to learn more about interactive tables.';\n",
              "          element.innerHTML = '';\n",
              "          dataTable['output_type'] = 'display_data';\n",
              "          await google.colab.output.renderOutput(dataTable, element);\n",
              "          const docLink = document.createElement('div');\n",
              "          docLink.innerHTML = docLinkHtml;\n",
              "          element.appendChild(docLink);\n",
              "        }\n",
              "      </script>\n",
              "    </div>\n",
              "  </div>\n",
              "  "
            ]
          },
          "metadata": {},
          "execution_count": 14
        }
      ]
    },
    {
      "cell_type": "markdown",
      "source": [
        "# Ordenando los datos"
      ],
      "metadata": {
        "id": "6UXH6eB9QQyy"
      }
    },
    {
      "cell_type": "markdown",
      "source": [
        "Se nombran las columnas para que Python las reconozca como tales."
      ],
      "metadata": {
        "id": "4kk3vbhhTy1C"
      }
    },
    {
      "cell_type": "code",
      "source": [
        "#CE 6\n",
        "headers=[\"sexo\",\"edad\",\"sintoma\",\"fecha de inicio de sintomas\",\"min fecha toma de muestra\",\"fecha fallecimineto\",\"clasificacion\",\"clasif_epidemio\",\"asma\",\"bajo peso\",\"bronquio_prev\",\"diabetes\",\"embarazo\",\"enf_neuro_previa\",\"enf_onco_previa\",\"epoc\",\"hepato_cronica\",\"hipertension arterial\",\"inmunos_congenita\",\"insf_cardiaca\",\"insf_renal\",\"neumonia previa\",\"obesidad\",\"prematuro\",\"sin_comorb\",\"tuberculosis\",\"ex fumador\",\"fumador\",\"dialisis aguda\",\"dialisis cronica\",\"embarazada\",\"distrito\",\"fraccion censal\"]"
      ],
      "metadata": {
        "id": "ovvQ4bT-T0-T"
      },
      "execution_count": null,
      "outputs": []
    },
    {
      "cell_type": "code",
      "source": [
        "#CE 7\n",
        "df.columns = headers\n",
        "df.head(5)"
      ],
      "metadata": {
        "colab": {
          "base_uri": "https://localhost:8080/",
          "height": 612
        },
        "id": "NRtcIQwwVLCk",
        "outputId": "36ecfb86-4099-4d14-ed52-30b07cd03ade"
      },
      "execution_count": null,
      "outputs": [
        {
          "output_type": "execute_result",
          "data": {
            "text/plain": [
              "  sexo  edad                                            sintoma  \\\n",
              "0  'F'  '70'                                                 ''   \n",
              "1  'M'  '70'                'Malestar general; Odinofagia; Tos'   \n",
              "2  'F'  '70'  'Cefalea; Fiebre (mayor o igual a 38°); Malest...   \n",
              "3  'M'  '28'                                                 ''   \n",
              "4  'M'  '56'  'Disnea; Fiebre (mayor o igual a 38°); Taquipn...   \n",
              "\n",
              "  fecha de inicio de sintomas min fecha toma de muestra fecha fallecimineto  \\\n",
              "0                '19/07/2021'              '20/07/2021'                  ''   \n",
              "1                '15/04/2021'              '20/04/2021'                  ''   \n",
              "2                '23/04/2021'              '26/04/2021'        '18/05/2021'   \n",
              "3                '27/05/2021'              '29/05/2021'                  ''   \n",
              "4                '04/05/2021'              '14/05/2021'                  ''   \n",
              "\n",
              "  clasificacion clasif_epidemio asma bajo peso  ... prematuro sin_comorb  \\\n",
              "0     'Público'   'Comunitario'  '0'       '0'  ...       '0'        '0'   \n",
              "1     'Público'      'Contacto'  '0'       '0'  ...       '0'        '0'   \n",
              "2     'Público'   'Comunitario'  '0'       '0'  ...       '0'        '0'   \n",
              "3     'Público'   'Comunitario'  '0'       '0'  ...       '0'        '0'   \n",
              "4     'Público'   'Comunitario'  '0'       '0'  ...       '0'        '0'   \n",
              "\n",
              "  tuberculosis ex fumador fumador dialisis aguda dialisis cronica embarazada  \\\n",
              "0          '0'        '0'     '0'            '0'              '0'       'NO'   \n",
              "1          '0'        '0'     '0'            '0'              '0'         ''   \n",
              "2          '0'        '0'     '0'            '0'              '0'       'NO'   \n",
              "3          '0'        '0'     '0'            '0'              '0'         ''   \n",
              "4          '0'        '0'     '1'            '0'              '0'         ''   \n",
              "\n",
              "   distrito fraccion censal  \n",
              "0     OESTE              33  \n",
              "1     NORTE              07  \n",
              "2       NaN             NaN  \n",
              "3  NOROESTE              12  \n",
              "4  NOROESTE              13  \n",
              "\n",
              "[5 rows x 33 columns]"
            ],
            "text/html": [
              "\n",
              "  <div id=\"df-fc4ec5e9-f538-4f09-a499-289c49eec0cb\">\n",
              "    <div class=\"colab-df-container\">\n",
              "      <div>\n",
              "<style scoped>\n",
              "    .dataframe tbody tr th:only-of-type {\n",
              "        vertical-align: middle;\n",
              "    }\n",
              "\n",
              "    .dataframe tbody tr th {\n",
              "        vertical-align: top;\n",
              "    }\n",
              "\n",
              "    .dataframe thead th {\n",
              "        text-align: right;\n",
              "    }\n",
              "</style>\n",
              "<table border=\"1\" class=\"dataframe\">\n",
              "  <thead>\n",
              "    <tr style=\"text-align: right;\">\n",
              "      <th></th>\n",
              "      <th>sexo</th>\n",
              "      <th>edad</th>\n",
              "      <th>sintoma</th>\n",
              "      <th>fecha de inicio de sintomas</th>\n",
              "      <th>min fecha toma de muestra</th>\n",
              "      <th>fecha fallecimineto</th>\n",
              "      <th>clasificacion</th>\n",
              "      <th>clasif_epidemio</th>\n",
              "      <th>asma</th>\n",
              "      <th>bajo peso</th>\n",
              "      <th>...</th>\n",
              "      <th>prematuro</th>\n",
              "      <th>sin_comorb</th>\n",
              "      <th>tuberculosis</th>\n",
              "      <th>ex fumador</th>\n",
              "      <th>fumador</th>\n",
              "      <th>dialisis aguda</th>\n",
              "      <th>dialisis cronica</th>\n",
              "      <th>embarazada</th>\n",
              "      <th>distrito</th>\n",
              "      <th>fraccion censal</th>\n",
              "    </tr>\n",
              "  </thead>\n",
              "  <tbody>\n",
              "    <tr>\n",
              "      <th>0</th>\n",
              "      <td>'F'</td>\n",
              "      <td>'70'</td>\n",
              "      <td>''</td>\n",
              "      <td>'19/07/2021'</td>\n",
              "      <td>'20/07/2021'</td>\n",
              "      <td>''</td>\n",
              "      <td>'Público'</td>\n",
              "      <td>'Comunitario'</td>\n",
              "      <td>'0'</td>\n",
              "      <td>'0'</td>\n",
              "      <td>...</td>\n",
              "      <td>'0'</td>\n",
              "      <td>'0'</td>\n",
              "      <td>'0'</td>\n",
              "      <td>'0'</td>\n",
              "      <td>'0'</td>\n",
              "      <td>'0'</td>\n",
              "      <td>'0'</td>\n",
              "      <td>'NO'</td>\n",
              "      <td>OESTE</td>\n",
              "      <td>33</td>\n",
              "    </tr>\n",
              "    <tr>\n",
              "      <th>1</th>\n",
              "      <td>'M'</td>\n",
              "      <td>'70'</td>\n",
              "      <td>'Malestar general; Odinofagia; Tos'</td>\n",
              "      <td>'15/04/2021'</td>\n",
              "      <td>'20/04/2021'</td>\n",
              "      <td>''</td>\n",
              "      <td>'Público'</td>\n",
              "      <td>'Contacto'</td>\n",
              "      <td>'0'</td>\n",
              "      <td>'0'</td>\n",
              "      <td>...</td>\n",
              "      <td>'0'</td>\n",
              "      <td>'0'</td>\n",
              "      <td>'0'</td>\n",
              "      <td>'0'</td>\n",
              "      <td>'0'</td>\n",
              "      <td>'0'</td>\n",
              "      <td>'0'</td>\n",
              "      <td>''</td>\n",
              "      <td>NORTE</td>\n",
              "      <td>07</td>\n",
              "    </tr>\n",
              "    <tr>\n",
              "      <th>2</th>\n",
              "      <td>'F'</td>\n",
              "      <td>'70'</td>\n",
              "      <td>'Cefalea; Fiebre (mayor o igual a 38°); Malest...</td>\n",
              "      <td>'23/04/2021'</td>\n",
              "      <td>'26/04/2021'</td>\n",
              "      <td>'18/05/2021'</td>\n",
              "      <td>'Público'</td>\n",
              "      <td>'Comunitario'</td>\n",
              "      <td>'0'</td>\n",
              "      <td>'0'</td>\n",
              "      <td>...</td>\n",
              "      <td>'0'</td>\n",
              "      <td>'0'</td>\n",
              "      <td>'0'</td>\n",
              "      <td>'0'</td>\n",
              "      <td>'0'</td>\n",
              "      <td>'0'</td>\n",
              "      <td>'0'</td>\n",
              "      <td>'NO'</td>\n",
              "      <td>NaN</td>\n",
              "      <td>NaN</td>\n",
              "    </tr>\n",
              "    <tr>\n",
              "      <th>3</th>\n",
              "      <td>'M'</td>\n",
              "      <td>'28'</td>\n",
              "      <td>''</td>\n",
              "      <td>'27/05/2021'</td>\n",
              "      <td>'29/05/2021'</td>\n",
              "      <td>''</td>\n",
              "      <td>'Público'</td>\n",
              "      <td>'Comunitario'</td>\n",
              "      <td>'0'</td>\n",
              "      <td>'0'</td>\n",
              "      <td>...</td>\n",
              "      <td>'0'</td>\n",
              "      <td>'0'</td>\n",
              "      <td>'0'</td>\n",
              "      <td>'0'</td>\n",
              "      <td>'0'</td>\n",
              "      <td>'0'</td>\n",
              "      <td>'0'</td>\n",
              "      <td>''</td>\n",
              "      <td>NOROESTE</td>\n",
              "      <td>12</td>\n",
              "    </tr>\n",
              "    <tr>\n",
              "      <th>4</th>\n",
              "      <td>'M'</td>\n",
              "      <td>'56'</td>\n",
              "      <td>'Disnea; Fiebre (mayor o igual a 38°); Taquipn...</td>\n",
              "      <td>'04/05/2021'</td>\n",
              "      <td>'14/05/2021'</td>\n",
              "      <td>''</td>\n",
              "      <td>'Público'</td>\n",
              "      <td>'Comunitario'</td>\n",
              "      <td>'0'</td>\n",
              "      <td>'0'</td>\n",
              "      <td>...</td>\n",
              "      <td>'0'</td>\n",
              "      <td>'0'</td>\n",
              "      <td>'0'</td>\n",
              "      <td>'0'</td>\n",
              "      <td>'1'</td>\n",
              "      <td>'0'</td>\n",
              "      <td>'0'</td>\n",
              "      <td>''</td>\n",
              "      <td>NOROESTE</td>\n",
              "      <td>13</td>\n",
              "    </tr>\n",
              "  </tbody>\n",
              "</table>\n",
              "<p>5 rows × 33 columns</p>\n",
              "</div>\n",
              "      <button class=\"colab-df-convert\" onclick=\"convertToInteractive('df-fc4ec5e9-f538-4f09-a499-289c49eec0cb')\"\n",
              "              title=\"Convert this dataframe to an interactive table.\"\n",
              "              style=\"display:none;\">\n",
              "        \n",
              "  <svg xmlns=\"http://www.w3.org/2000/svg\" height=\"24px\"viewBox=\"0 0 24 24\"\n",
              "       width=\"24px\">\n",
              "    <path d=\"M0 0h24v24H0V0z\" fill=\"none\"/>\n",
              "    <path d=\"M18.56 5.44l.94 2.06.94-2.06 2.06-.94-2.06-.94-.94-2.06-.94 2.06-2.06.94zm-11 1L8.5 8.5l.94-2.06 2.06-.94-2.06-.94L8.5 2.5l-.94 2.06-2.06.94zm10 10l.94 2.06.94-2.06 2.06-.94-2.06-.94-.94-2.06-.94 2.06-2.06.94z\"/><path d=\"M17.41 7.96l-1.37-1.37c-.4-.4-.92-.59-1.43-.59-.52 0-1.04.2-1.43.59L10.3 9.45l-7.72 7.72c-.78.78-.78 2.05 0 2.83L4 21.41c.39.39.9.59 1.41.59.51 0 1.02-.2 1.41-.59l7.78-7.78 2.81-2.81c.8-.78.8-2.07 0-2.86zM5.41 20L4 18.59l7.72-7.72 1.47 1.35L5.41 20z\"/>\n",
              "  </svg>\n",
              "      </button>\n",
              "      \n",
              "  <style>\n",
              "    .colab-df-container {\n",
              "      display:flex;\n",
              "      flex-wrap:wrap;\n",
              "      gap: 12px;\n",
              "    }\n",
              "\n",
              "    .colab-df-convert {\n",
              "      background-color: #E8F0FE;\n",
              "      border: none;\n",
              "      border-radius: 50%;\n",
              "      cursor: pointer;\n",
              "      display: none;\n",
              "      fill: #1967D2;\n",
              "      height: 32px;\n",
              "      padding: 0 0 0 0;\n",
              "      width: 32px;\n",
              "    }\n",
              "\n",
              "    .colab-df-convert:hover {\n",
              "      background-color: #E2EBFA;\n",
              "      box-shadow: 0px 1px 2px rgba(60, 64, 67, 0.3), 0px 1px 3px 1px rgba(60, 64, 67, 0.15);\n",
              "      fill: #174EA6;\n",
              "    }\n",
              "\n",
              "    [theme=dark] .colab-df-convert {\n",
              "      background-color: #3B4455;\n",
              "      fill: #D2E3FC;\n",
              "    }\n",
              "\n",
              "    [theme=dark] .colab-df-convert:hover {\n",
              "      background-color: #434B5C;\n",
              "      box-shadow: 0px 1px 3px 1px rgba(0, 0, 0, 0.15);\n",
              "      filter: drop-shadow(0px 1px 2px rgba(0, 0, 0, 0.3));\n",
              "      fill: #FFFFFF;\n",
              "    }\n",
              "  </style>\n",
              "\n",
              "      <script>\n",
              "        const buttonEl =\n",
              "          document.querySelector('#df-fc4ec5e9-f538-4f09-a499-289c49eec0cb button.colab-df-convert');\n",
              "        buttonEl.style.display =\n",
              "          google.colab.kernel.accessAllowed ? 'block' : 'none';\n",
              "\n",
              "        async function convertToInteractive(key) {\n",
              "          const element = document.querySelector('#df-fc4ec5e9-f538-4f09-a499-289c49eec0cb');\n",
              "          const dataTable =\n",
              "            await google.colab.kernel.invokeFunction('convertToInteractive',\n",
              "                                                     [key], {});\n",
              "          if (!dataTable) return;\n",
              "\n",
              "          const docLinkHtml = 'Like what you see? Visit the ' +\n",
              "            '<a target=\"_blank\" href=https://colab.research.google.com/notebooks/data_table.ipynb>data table notebook</a>'\n",
              "            + ' to learn more about interactive tables.';\n",
              "          element.innerHTML = '';\n",
              "          dataTable['output_type'] = 'display_data';\n",
              "          await google.colab.output.renderOutput(dataTable, element);\n",
              "          const docLink = document.createElement('div');\n",
              "          docLink.innerHTML = docLinkHtml;\n",
              "          element.appendChild(docLink);\n",
              "        }\n",
              "      </script>\n",
              "    </div>\n",
              "  </div>\n",
              "  "
            ]
          },
          "metadata": {},
          "execution_count": 16
        }
      ]
    },
    {
      "cell_type": "markdown",
      "source": [
        "Nótese que existen valores nulos para la columna *'distrito'*.\n",
        "\n",
        "Para ver cuántos hay, se reemplazan por un valor que Python reconoce y puede contar, como es el valor `nan` de la libreria numpy.\n",
        "\n",
        "Para usar la función `replace` y que los cambios queden efectivos en la tabla de datos que estamos trabajando, no hay que olvidar la sentencia `inplace=True`, de lo contrario los cambios no se efectuarán."
      ],
      "metadata": {
        "id": "wDhUcNlfQmdH"
      }
    },
    {
      "cell_type": "code",
      "source": [
        "#CE 8\n",
        "df['distrito'].replace('\"', np.nan, inplace = True)\n",
        "print(\"Número de personas sin distrito asignado :\", df['distrito'].isnull().sum())\n"
      ],
      "metadata": {
        "colab": {
          "base_uri": "https://localhost:8080/"
        },
        "id": "IBmLWEVvQ0gW",
        "outputId": "44bedf0e-dc4c-4398-9f08-c6816a8821e0"
      },
      "execution_count": null,
      "outputs": [
        {
          "output_type": "stream",
          "name": "stdout",
          "text": [
            "Número de personas sin distrito asignado : 8536\n"
          ]
        }
      ]
    },
    {
      "cell_type": "markdown",
      "source": [
        "A continuación se eliminan los valores nulos de *'distrito'* de la tabla.\n",
        "\n",
        "El objetivo de este paso es porder graficar sin errores en la próxima sección."
      ],
      "metadata": {
        "id": "HQRmYRHpIC9v"
      }
    },
    {
      "cell_type": "code",
      "source": [
        "#CE 9\n",
        "df['distrito'].dropna(inplace=True)"
      ],
      "metadata": {
        "id": "fLNU2dxcIxuL"
      },
      "execution_count": null,
      "outputs": []
    },
    {
      "cell_type": "markdown",
      "source": [
        "A pesar de que los valores nulos para *'distrito'* fueron descartados, los lugares siguien estando porque la fila no fue removida enteramente, por lo que de aquí en más se verá un total de 97177 datos para *'distrito'* pero 105713 datos para todas las demas columnas que no fueron alteradas."
      ],
      "metadata": {
        "id": "PcAb3M3wKogj"
      }
    },
    {
      "cell_type": "markdown",
      "source": [
        "# Análisis exploratorio de datos"
      ],
      "metadata": {
        "id": "UJCaLPPeKxzP"
      }
    },
    {
      "cell_type": "markdown",
      "source": [
        "A continuación se utiliza el método `value_counts` para contar el número de personas procedentes de los distintos distritos. Se hace uso además del método `to_frame()` para convertir estos datos a data frame."
      ],
      "metadata": {
        "id": "zuwt5fQ5O9kN"
      }
    },
    {
      "cell_type": "code",
      "source": [
        "#CE 10\n",
        "dist=df[\"distrito\"].value_counts()\n",
        "df[\"distrito\"].value_counts().to_frame()"
      ],
      "metadata": {
        "colab": {
          "base_uri": "https://localhost:8080/",
          "height": 269
        },
        "id": "A5pIg4zIbw-E",
        "outputId": "13535c45-c41f-467f-8989-2bbc232d7358"
      },
      "execution_count": null,
      "outputs": [
        {
          "output_type": "execute_result",
          "data": {
            "text/plain": [
              "              distrito\n",
              "CENTRO           30604\n",
              "NOROESTE         15729\n",
              "NORTE            13825\n",
              "SUR              13772\n",
              "OESTE            12522\n",
              "SUDOESTE         10707\n",
              "Sin Distrito        18"
            ],
            "text/html": [
              "\n",
              "  <div id=\"df-8ec9872d-38be-4dc7-9ca4-4ab6492f68f4\">\n",
              "    <div class=\"colab-df-container\">\n",
              "      <div>\n",
              "<style scoped>\n",
              "    .dataframe tbody tr th:only-of-type {\n",
              "        vertical-align: middle;\n",
              "    }\n",
              "\n",
              "    .dataframe tbody tr th {\n",
              "        vertical-align: top;\n",
              "    }\n",
              "\n",
              "    .dataframe thead th {\n",
              "        text-align: right;\n",
              "    }\n",
              "</style>\n",
              "<table border=\"1\" class=\"dataframe\">\n",
              "  <thead>\n",
              "    <tr style=\"text-align: right;\">\n",
              "      <th></th>\n",
              "      <th>distrito</th>\n",
              "    </tr>\n",
              "  </thead>\n",
              "  <tbody>\n",
              "    <tr>\n",
              "      <th>CENTRO</th>\n",
              "      <td>30604</td>\n",
              "    </tr>\n",
              "    <tr>\n",
              "      <th>NOROESTE</th>\n",
              "      <td>15729</td>\n",
              "    </tr>\n",
              "    <tr>\n",
              "      <th>NORTE</th>\n",
              "      <td>13825</td>\n",
              "    </tr>\n",
              "    <tr>\n",
              "      <th>SUR</th>\n",
              "      <td>13772</td>\n",
              "    </tr>\n",
              "    <tr>\n",
              "      <th>OESTE</th>\n",
              "      <td>12522</td>\n",
              "    </tr>\n",
              "    <tr>\n",
              "      <th>SUDOESTE</th>\n",
              "      <td>10707</td>\n",
              "    </tr>\n",
              "    <tr>\n",
              "      <th>Sin Distrito</th>\n",
              "      <td>18</td>\n",
              "    </tr>\n",
              "  </tbody>\n",
              "</table>\n",
              "</div>\n",
              "      <button class=\"colab-df-convert\" onclick=\"convertToInteractive('df-8ec9872d-38be-4dc7-9ca4-4ab6492f68f4')\"\n",
              "              title=\"Convert this dataframe to an interactive table.\"\n",
              "              style=\"display:none;\">\n",
              "        \n",
              "  <svg xmlns=\"http://www.w3.org/2000/svg\" height=\"24px\"viewBox=\"0 0 24 24\"\n",
              "       width=\"24px\">\n",
              "    <path d=\"M0 0h24v24H0V0z\" fill=\"none\"/>\n",
              "    <path d=\"M18.56 5.44l.94 2.06.94-2.06 2.06-.94-2.06-.94-.94-2.06-.94 2.06-2.06.94zm-11 1L8.5 8.5l.94-2.06 2.06-.94-2.06-.94L8.5 2.5l-.94 2.06-2.06.94zm10 10l.94 2.06.94-2.06 2.06-.94-2.06-.94-.94-2.06-.94 2.06-2.06.94z\"/><path d=\"M17.41 7.96l-1.37-1.37c-.4-.4-.92-.59-1.43-.59-.52 0-1.04.2-1.43.59L10.3 9.45l-7.72 7.72c-.78.78-.78 2.05 0 2.83L4 21.41c.39.39.9.59 1.41.59.51 0 1.02-.2 1.41-.59l7.78-7.78 2.81-2.81c.8-.78.8-2.07 0-2.86zM5.41 20L4 18.59l7.72-7.72 1.47 1.35L5.41 20z\"/>\n",
              "  </svg>\n",
              "      </button>\n",
              "      \n",
              "  <style>\n",
              "    .colab-df-container {\n",
              "      display:flex;\n",
              "      flex-wrap:wrap;\n",
              "      gap: 12px;\n",
              "    }\n",
              "\n",
              "    .colab-df-convert {\n",
              "      background-color: #E8F0FE;\n",
              "      border: none;\n",
              "      border-radius: 50%;\n",
              "      cursor: pointer;\n",
              "      display: none;\n",
              "      fill: #1967D2;\n",
              "      height: 32px;\n",
              "      padding: 0 0 0 0;\n",
              "      width: 32px;\n",
              "    }\n",
              "\n",
              "    .colab-df-convert:hover {\n",
              "      background-color: #E2EBFA;\n",
              "      box-shadow: 0px 1px 2px rgba(60, 64, 67, 0.3), 0px 1px 3px 1px rgba(60, 64, 67, 0.15);\n",
              "      fill: #174EA6;\n",
              "    }\n",
              "\n",
              "    [theme=dark] .colab-df-convert {\n",
              "      background-color: #3B4455;\n",
              "      fill: #D2E3FC;\n",
              "    }\n",
              "\n",
              "    [theme=dark] .colab-df-convert:hover {\n",
              "      background-color: #434B5C;\n",
              "      box-shadow: 0px 1px 3px 1px rgba(0, 0, 0, 0.15);\n",
              "      filter: drop-shadow(0px 1px 2px rgba(0, 0, 0, 0.3));\n",
              "      fill: #FFFFFF;\n",
              "    }\n",
              "  </style>\n",
              "\n",
              "      <script>\n",
              "        const buttonEl =\n",
              "          document.querySelector('#df-8ec9872d-38be-4dc7-9ca4-4ab6492f68f4 button.colab-df-convert');\n",
              "        buttonEl.style.display =\n",
              "          google.colab.kernel.accessAllowed ? 'block' : 'none';\n",
              "\n",
              "        async function convertToInteractive(key) {\n",
              "          const element = document.querySelector('#df-8ec9872d-38be-4dc7-9ca4-4ab6492f68f4');\n",
              "          const dataTable =\n",
              "            await google.colab.kernel.invokeFunction('convertToInteractive',\n",
              "                                                     [key], {});\n",
              "          if (!dataTable) return;\n",
              "\n",
              "          const docLinkHtml = 'Like what you see? Visit the ' +\n",
              "            '<a target=\"_blank\" href=https://colab.research.google.com/notebooks/data_table.ipynb>data table notebook</a>'\n",
              "            + ' to learn more about interactive tables.';\n",
              "          element.innerHTML = '';\n",
              "          dataTable['output_type'] = 'display_data';\n",
              "          await google.colab.output.renderOutput(dataTable, element);\n",
              "          const docLink = document.createElement('div');\n",
              "          docLink.innerHTML = docLinkHtml;\n",
              "          element.appendChild(docLink);\n",
              "        }\n",
              "      </script>\n",
              "    </div>\n",
              "  </div>\n",
              "  "
            ]
          },
          "metadata": {},
          "execution_count": 19
        }
      ]
    },
    {
      "cell_type": "markdown",
      "source": [
        "Se utiliza la función `pie chart` de la libreria `matplotlib` para crear un gráfico de torta, en el cual se pueda visualizar el porcentaje que representan los contagios en los distintos distritos sobre el total de casos registrados."
      ],
      "metadata": {
        "id": "F2KAEvNWQB6_"
      }
    },
    {
      "cell_type": "code",
      "source": [
        "#CE 11\n",
        "\n",
        "#Separamos las fracciones del gráfico\n",
        "explode = (0.05, 0.05, 0.05, 0.05, 0.05, 0.05,0.5)\n",
        "#Esto da la forma de dona\n",
        "centre_circle = plt.Circle((0,0),0.55,fc='white')\n",
        "fig = plt.gcf()\n",
        "fig.gca().add_artist(centre_circle)\n",
        "#Cambiamos los colores originales por unos mas claros\n",
        "colors = ['#ff6666', '#ffcc99', '#99ff99', '#66b3ff','#c2c2f0','#ffb3e6','#99ff99']\n",
        "distritos=['Centro','Noroeste','Norte','Sur','Oeste','Sudoeste','Sin Distrito']\n",
        "#Hacemos el gráfico con todos los parámetros de arriba\n",
        "plt.pie(dist, labels=distritos, colors=colors, autopct='%0.1f%%', startangle=90, pctdistance=0.85, explode = explode)\n",
        "plt.axis()\n",
        "plt.show()"
      ],
      "metadata": {
        "colab": {
          "base_uri": "https://localhost:8080/",
          "height": 284
        },
        "id": "owNJENGEb-nV",
        "outputId": "54c74e32-bc0f-4e7a-8ed9-5ffc2a4c08cf"
      },
      "execution_count": null,
      "outputs": [
        {
          "output_type": "display_data",
          "data": {
            "text/plain": [
              "<Figure size 432x288 with 1 Axes>"
            ],
            "image/png": "[encoded data removed]"
          },
          "metadata": {}
        }
      ]
    },
    {
      "cell_type": "markdown",
      "source": [
        "Se puede realizar el mismo anlálisis para los casos epidemiológicos."
      ],
      "metadata": {
        "id": "NDcLJR8xgm-_"
      }
    },
    {
      "cell_type": "code",
      "source": [
        "#CE 12\n",
        "clasif_ep=df[\"clasif_epidemio\"].value_counts()\n",
        "df[\"clasif_epidemio\"].value_counts().to_frame()"
      ],
      "metadata": {
        "colab": {
          "base_uri": "https://localhost:8080/",
          "height": 237
        },
        "id": "Z4j9-49oPx2m",
        "outputId": "2634de88-d911-45bf-a480-728c8d768b74"
      },
      "execution_count": null,
      "outputs": [
        {
          "output_type": "execute_result",
          "data": {
            "text/plain": [
              "                           clasif_epidemio\n",
              "'Comunitario'                        81473\n",
              "'Contacto'                           13080\n",
              "'En Investigación'                    9349\n",
              "'Trabajador de la Salud'               917\n",
              "'Importado nacional'                   805\n",
              "'Importado internacional'               89"
            ],
            "text/html": [
              "\n",
              "  <div id=\"df-dec49c59-cd7a-40a6-bf31-743e18d0ded4\">\n",
              "    <div class=\"colab-df-container\">\n",
              "      <div>\n",
              "<style scoped>\n",
              "    .dataframe tbody tr th:only-of-type {\n",
              "        vertical-align: middle;\n",
              "    }\n",
              "\n",
              "    .dataframe tbody tr th {\n",
              "        vertical-align: top;\n",
              "    }\n",
              "\n",
              "    .dataframe thead th {\n",
              "        text-align: right;\n",
              "    }\n",
              "</style>\n",
              "<table border=\"1\" class=\"dataframe\">\n",
              "  <thead>\n",
              "    <tr style=\"text-align: right;\">\n",
              "      <th></th>\n",
              "      <th>clasif_epidemio</th>\n",
              "    </tr>\n",
              "  </thead>\n",
              "  <tbody>\n",
              "    <tr>\n",
              "      <th>'Comunitario'</th>\n",
              "      <td>81473</td>\n",
              "    </tr>\n",
              "    <tr>\n",
              "      <th>'Contacto'</th>\n",
              "      <td>13080</td>\n",
              "    </tr>\n",
              "    <tr>\n",
              "      <th>'En Investigación'</th>\n",
              "      <td>9349</td>\n",
              "    </tr>\n",
              "    <tr>\n",
              "      <th>'Trabajador de la Salud'</th>\n",
              "      <td>917</td>\n",
              "    </tr>\n",
              "    <tr>\n",
              "      <th>'Importado nacional'</th>\n",
              "      <td>805</td>\n",
              "    </tr>\n",
              "    <tr>\n",
              "      <th>'Importado internacional'</th>\n",
              "      <td>89</td>\n",
              "    </tr>\n",
              "  </tbody>\n",
              "</table>\n",
              "</div>\n",
              "      <button class=\"colab-df-convert\" onclick=\"convertToInteractive('df-dec49c59-cd7a-40a6-bf31-743e18d0ded4')\"\n",
              "              title=\"Convert this dataframe to an interactive table.\"\n",
              "              style=\"display:none;\">\n",
              "        \n",
              "  <svg xmlns=\"http://www.w3.org/2000/svg\" height=\"24px\"viewBox=\"0 0 24 24\"\n",
              "       width=\"24px\">\n",
              "    <path d=\"M0 0h24v24H0V0z\" fill=\"none\"/>\n",
              "    <path d=\"M18.56 5.44l.94 2.06.94-2.06 2.06-.94-2.06-.94-.94-2.06-.94 2.06-2.06.94zm-11 1L8.5 8.5l.94-2.06 2.06-.94-2.06-.94L8.5 2.5l-.94 2.06-2.06.94zm10 10l.94 2.06.94-2.06 2.06-.94-2.06-.94-.94-2.06-.94 2.06-2.06.94z\"/><path d=\"M17.41 7.96l-1.37-1.37c-.4-.4-.92-.59-1.43-.59-.52 0-1.04.2-1.43.59L10.3 9.45l-7.72 7.72c-.78.78-.78 2.05 0 2.83L4 21.41c.39.39.9.59 1.41.59.51 0 1.02-.2 1.41-.59l7.78-7.78 2.81-2.81c.8-.78.8-2.07 0-2.86zM5.41 20L4 18.59l7.72-7.72 1.47 1.35L5.41 20z\"/>\n",
              "  </svg>\n",
              "      </button>\n",
              "      \n",
              "  <style>\n",
              "    .colab-df-container {\n",
              "      display:flex;\n",
              "      flex-wrap:wrap;\n",
              "      gap: 12px;\n",
              "    }\n",
              "\n",
              "    .colab-df-convert {\n",
              "      background-color: #E8F0FE;\n",
              "      border: none;\n",
              "      border-radius: 50%;\n",
              "      cursor: pointer;\n",
              "      display: none;\n",
              "      fill: #1967D2;\n",
              "      height: 32px;\n",
              "      padding: 0 0 0 0;\n",
              "      width: 32px;\n",
              "    }\n",
              "\n",
              "    .colab-df-convert:hover {\n",
              "      background-color: #E2EBFA;\n",
              "      box-shadow: 0px 1px 2px rgba(60, 64, 67, 0.3), 0px 1px 3px 1px rgba(60, 64, 67, 0.15);\n",
              "      fill: #174EA6;\n",
              "    }\n",
              "\n",
              "    [theme=dark] .colab-df-convert {\n",
              "      background-color: #3B4455;\n",
              "      fill: #D2E3FC;\n",
              "    }\n",
              "\n",
              "    [theme=dark] .colab-df-convert:hover {\n",
              "      background-color: #434B5C;\n",
              "      box-shadow: 0px 1px 3px 1px rgba(0, 0, 0, 0.15);\n",
              "      filter: drop-shadow(0px 1px 2px rgba(0, 0, 0, 0.3));\n",
              "      fill: #FFFFFF;\n",
              "    }\n",
              "  </style>\n",
              "\n",
              "      <script>\n",
              "        const buttonEl =\n",
              "          document.querySelector('#df-dec49c59-cd7a-40a6-bf31-743e18d0ded4 button.colab-df-convert');\n",
              "        buttonEl.style.display =\n",
              "          google.colab.kernel.accessAllowed ? 'block' : 'none';\n",
              "\n",
              "        async function convertToInteractive(key) {\n",
              "          const element = document.querySelector('#df-dec49c59-cd7a-40a6-bf31-743e18d0ded4');\n",
              "          const dataTable =\n",
              "            await google.colab.kernel.invokeFunction('convertToInteractive',\n",
              "                                                     [key], {});\n",
              "          if (!dataTable) return;\n",
              "\n",
              "          const docLinkHtml = 'Like what you see? Visit the ' +\n",
              "            '<a target=\"_blank\" href=https://colab.research.google.com/notebooks/data_table.ipynb>data table notebook</a>'\n",
              "            + ' to learn more about interactive tables.';\n",
              "          element.innerHTML = '';\n",
              "          dataTable['output_type'] = 'display_data';\n",
              "          await google.colab.output.renderOutput(dataTable, element);\n",
              "          const docLink = document.createElement('div');\n",
              "          docLink.innerHTML = docLinkHtml;\n",
              "          element.appendChild(docLink);\n",
              "        }\n",
              "      </script>\n",
              "    </div>\n",
              "  </div>\n",
              "  "
            ]
          },
          "metadata": {},
          "execution_count": 21
        }
      ]
    },
    {
      "cell_type": "code",
      "source": [
        "#CE 13\n",
        "\n",
        "#Separamos las fracciones del gráfico\n",
        "explode = (0.05, 0.05, 0.05, 0.5, 1, 1.5)\n",
        "#Esto da la forma de dona\n",
        "centre_circle = plt.Circle((0,0),0.55,fc='white')\n",
        "fig = plt.gcf()\n",
        "fig.gca().add_artist(centre_circle)\n",
        "#Cambiamos los colores originales por unos mas claros\n",
        "colors = ['#ff6666', '#ffcc99', '#99ff99', '#66b3ff','#c2c2f0','#ffb3e6']\n",
        "#Hacemos el gráfico con todos los parámetros de arriba\n",
        "plt.pie(clasif_ep, labels=df[\"clasif_epidemio\"].unique(), colors=colors, autopct='%0.1f%%', startangle=90, pctdistance=0.85, explode = explode)\n",
        "plt.axis()\n",
        "plt.show()"
      ],
      "metadata": {
        "colab": {
          "base_uri": "https://localhost:8080/",
          "height": 371
        },
        "id": "8x5msrrVQWaU",
        "outputId": "4c3df181-208c-466a-e691-12b70892749a"
      },
      "execution_count": null,
      "outputs": [
        {
          "output_type": "display_data",
          "data": {
            "text/plain": [
              "<Figure size 432x288 with 1 Axes>"
            ],
            "image/png": "[encoded data removed]"
          },
          "metadata": {}
        }
      ]
    },
    {
      "cell_type": "markdown",
      "source": [
        "Y se puede volver a hacer para los distintos sexos registrados."
      ],
      "metadata": {
        "id": "faV8o79Jm1BT"
      }
    },
    {
      "cell_type": "code",
      "source": [
        "#CE 14\n",
        "clasif_ep=df[\"sexo\"].value_counts()\n",
        "df[\"sexo\"].value_counts().to_frame()\n",
        "# A=No Binario, \"=Prefiero no decirlo, X=Otros"
      ],
      "metadata": {
        "colab": {
          "base_uri": "https://localhost:8080/",
          "height": 206
        },
        "id": "7c6G1ISbc9Je",
        "outputId": "9da8fbb2-70f2-42ce-863f-5ea0fad11d49"
      },
      "execution_count": null,
      "outputs": [
        {
          "output_type": "execute_result",
          "data": {
            "text/plain": [
              "      sexo\n",
              "'F'  55516\n",
              "'M'  50061\n",
              "'A'    132\n",
              "''       3\n",
              "'X'      1"
            ],
            "text/html": [
              "\n",
              "  <div id=\"df-660d5190-9881-4ea8-89ed-b2cdc4a2210a\">\n",
              "    <div class=\"colab-df-container\">\n",
              "      <div>\n",
              "<style scoped>\n",
              "    .dataframe tbody tr th:only-of-type {\n",
              "        vertical-align: middle;\n",
              "    }\n",
              "\n",
              "    .dataframe tbody tr th {\n",
              "        vertical-align: top;\n",
              "    }\n",
              "\n",
              "    .dataframe thead th {\n",
              "        text-align: right;\n",
              "    }\n",
              "</style>\n",
              "<table border=\"1\" class=\"dataframe\">\n",
              "  <thead>\n",
              "    <tr style=\"text-align: right;\">\n",
              "      <th></th>\n",
              "      <th>sexo</th>\n",
              "    </tr>\n",
              "  </thead>\n",
              "  <tbody>\n",
              "    <tr>\n",
              "      <th>'F'</th>\n",
              "      <td>55516</td>\n",
              "    </tr>\n",
              "    <tr>\n",
              "      <th>'M'</th>\n",
              "      <td>50061</td>\n",
              "    </tr>\n",
              "    <tr>\n",
              "      <th>'A'</th>\n",
              "      <td>132</td>\n",
              "    </tr>\n",
              "    <tr>\n",
              "      <th>''</th>\n",
              "      <td>3</td>\n",
              "    </tr>\n",
              "    <tr>\n",
              "      <th>'X'</th>\n",
              "      <td>1</td>\n",
              "    </tr>\n",
              "  </tbody>\n",
              "</table>\n",
              "</div>\n",
              "      <button class=\"colab-df-convert\" onclick=\"convertToInteractive('df-660d5190-9881-4ea8-89ed-b2cdc4a2210a')\"\n",
              "              title=\"Convert this dataframe to an interactive table.\"\n",
              "              style=\"display:none;\">\n",
              "        \n",
              "  <svg xmlns=\"http://www.w3.org/2000/svg\" height=\"24px\"viewBox=\"0 0 24 24\"\n",
              "       width=\"24px\">\n",
              "    <path d=\"M0 0h24v24H0V0z\" fill=\"none\"/>\n",
              "    <path d=\"M18.56 5.44l.94 2.06.94-2.06 2.06-.94-2.06-.94-.94-2.06-.94 2.06-2.06.94zm-11 1L8.5 8.5l.94-2.06 2.06-.94-2.06-.94L8.5 2.5l-.94 2.06-2.06.94zm10 10l.94 2.06.94-2.06 2.06-.94-2.06-.94-.94-2.06-.94 2.06-2.06.94z\"/><path d=\"M17.41 7.96l-1.37-1.37c-.4-.4-.92-.59-1.43-.59-.52 0-1.04.2-1.43.59L10.3 9.45l-7.72 7.72c-.78.78-.78 2.05 0 2.83L4 21.41c.39.39.9.59 1.41.59.51 0 1.02-.2 1.41-.59l7.78-7.78 2.81-2.81c.8-.78.8-2.07 0-2.86zM5.41 20L4 18.59l7.72-7.72 1.47 1.35L5.41 20z\"/>\n",
              "  </svg>\n",
              "      </button>\n",
              "      \n",
              "  <style>\n",
              "    .colab-df-container {\n",
              "      display:flex;\n",
              "      flex-wrap:wrap;\n",
              "      gap: 12px;\n",
              "    }\n",
              "\n",
              "    .colab-df-convert {\n",
              "      background-color: #E8F0FE;\n",
              "      border: none;\n",
              "      border-radius: 50%;\n",
              "      cursor: pointer;\n",
              "      display: none;\n",
              "      fill: #1967D2;\n",
              "      height: 32px;\n",
              "      padding: 0 0 0 0;\n",
              "      width: 32px;\n",
              "    }\n",
              "\n",
              "    .colab-df-convert:hover {\n",
              "      background-color: #E2EBFA;\n",
              "      box-shadow: 0px 1px 2px rgba(60, 64, 67, 0.3), 0px 1px 3px 1px rgba(60, 64, 67, 0.15);\n",
              "      fill: #174EA6;\n",
              "    }\n",
              "\n",
              "    [theme=dark] .colab-df-convert {\n",
              "      background-color: #3B4455;\n",
              "      fill: #D2E3FC;\n",
              "    }\n",
              "\n",
              "    [theme=dark] .colab-df-convert:hover {\n",
              "      background-color: #434B5C;\n",
              "      box-shadow: 0px 1px 3px 1px rgba(0, 0, 0, 0.15);\n",
              "      filter: drop-shadow(0px 1px 2px rgba(0, 0, 0, 0.3));\n",
              "      fill: #FFFFFF;\n",
              "    }\n",
              "  </style>\n",
              "\n",
              "      <script>\n",
              "        const buttonEl =\n",
              "          document.querySelector('#df-660d5190-9881-4ea8-89ed-b2cdc4a2210a button.colab-df-convert');\n",
              "        buttonEl.style.display =\n",
              "          google.colab.kernel.accessAllowed ? 'block' : 'none';\n",
              "\n",
              "        async function convertToInteractive(key) {\n",
              "          const element = document.querySelector('#df-660d5190-9881-4ea8-89ed-b2cdc4a2210a');\n",
              "          const dataTable =\n",
              "            await google.colab.kernel.invokeFunction('convertToInteractive',\n",
              "                                                     [key], {});\n",
              "          if (!dataTable) return;\n",
              "\n",
              "          const docLinkHtml = 'Like what you see? Visit the ' +\n",
              "            '<a target=\"_blank\" href=https://colab.research.google.com/notebooks/data_table.ipynb>data table notebook</a>'\n",
              "            + ' to learn more about interactive tables.';\n",
              "          element.innerHTML = '';\n",
              "          dataTable['output_type'] = 'display_data';\n",
              "          await google.colab.output.renderOutput(dataTable, element);\n",
              "          const docLink = document.createElement('div');\n",
              "          docLink.innerHTML = docLinkHtml;\n",
              "          element.appendChild(docLink);\n",
              "        }\n",
              "      </script>\n",
              "    </div>\n",
              "  </div>\n",
              "  "
            ]
          },
          "metadata": {},
          "execution_count": 23
        }
      ]
    },
    {
      "cell_type": "code",
      "source": [
        "#CE 15\n",
        "\n",
        "#Separamos las fracciones del gráfico\n",
        "explode = (0.005, 0.05, 0.5, 0.9, 1.3)\n",
        "#Esto da la forma de dona\n",
        "centre_circle = plt.Circle((0,0),0.55,fc='white')\n",
        "fig = plt.gcf()\n",
        "fig.gca().add_artist(centre_circle)\n",
        "#Cambiamos los colores originales por unos mas claros\n",
        "colors = ['#ff6666', '#ffcc99', '#99ff99', '#66b3ff','#c2c2f0']\n",
        "sexo=[\"Femenino\", \"Masculino\", \"No Binario\", \"Prefiero no decirlo\", \"Otros\"]\n",
        "#Hacemos el gráfico con todos los parámetros de arriba\n",
        "plt.pie(clasif_ep, labels=sexo, colors=colors, autopct='%0.1f%%', startangle=60, pctdistance=0.85, explode = explode)\n",
        "plt.axis()\n",
        "plt.show()"
      ],
      "metadata": {
        "colab": {
          "base_uri": "https://localhost:8080/",
          "height": 325
        },
        "id": "HqLuKLqOjXKf",
        "outputId": "5129b548-d0ce-42fb-d903-05358cf01a07"
      },
      "execution_count": null,
      "outputs": [
        {
          "output_type": "display_data",
          "data": {
            "text/plain": [
              "<Figure size 432x288 with 1 Axes>"
            ],
            "image/png": "[encoded data removed]"
          },
          "metadata": {}
        }
      ]
    },
    {
      "cell_type": "markdown",
      "source": [
        "De los resultados obtenidos se ve que si bien se puede obtener buena información de estos gráficos, no es suficiente para hacer un análisis completo.\n",
        "\n",
        "A continuación se analiza si ciertas condiciones sobre la salud de la persona son realmente factores de riesgo, por lo que se estudiará qué porcentaje de fallecidos son personas con: asma, diabetes, obesidad, bajo peso, fumador o ex fumador."
      ],
      "metadata": {
        "id": "lyWy9i4Mg22V"
      }
    },
    {
      "cell_type": "code",
      "source": [
        "#CE 16\n",
        "\n",
        "#Separamos los datos entre las personas fallecidas y recuperadas\n",
        "df['fecha fallecimineto'].replace(\"''\", np.nan, inplace = True)\n",
        "print(\"Personas recuperadas :\", df['fecha fallecimineto'].isnull().sum())\n",
        "print(\"Personas fallecidas :\", df['fecha fallecimineto'].notnull().sum())\n",
        "\n",
        "#Seleccionamos dentro del data frame, aquellas personas fallecidas\n",
        "personas_fallecidas = df.loc[df['fecha fallecimineto'].notnull()]\n",
        "personas_fallecidas.head()\n"
      ],
      "metadata": {
        "colab": {
          "base_uri": "https://localhost:8080/",
          "height": 612
        },
        "id": "zJlcIZ_NnBdp",
        "outputId": "a9270a95-aa83-4fc6-aed4-1f81cfdf5ae8"
      },
      "execution_count": null,
      "outputs": [
        {
          "output_type": "stream",
          "name": "stdout",
          "text": [
            "Personas recuperadas : 103754\n",
            "Personas fallecidas : 1959\n"
          ]
        },
        {
          "output_type": "execute_result",
          "data": {
            "text/plain": [
              "   sexo  edad                                            sintoma  \\\n",
              "2   'F'  '70'  'Cefalea; Fiebre (mayor o igual a 38°); Malest...   \n",
              "18  'M'  '70'                                                 ''   \n",
              "32  'M'  '70'                                                 ''   \n",
              "54  'M'  '70'  'Fiebre (mayor o igual a 38°); Insuficiencia r...   \n",
              "66  'M'  '70'                  'Disnea; Fiebre menor a 38°; Tos'   \n",
              "\n",
              "   fecha de inicio de sintomas min fecha toma de muestra fecha fallecimineto  \\\n",
              "2                 '23/04/2021'              '26/04/2021'        '18/05/2021'   \n",
              "18                '07/05/2021'              '07/05/2021'        '26/05/2021'   \n",
              "32                '07/03/2021'              '11/03/2021'        '20/05/2021'   \n",
              "54                '06/04/2021'              '09/04/2021'        '27/04/2021'   \n",
              "66                '02/06/2021'              '03/06/2021'        '05/06/2021'   \n",
              "\n",
              "   clasificacion clasif_epidemio asma bajo peso  ... prematuro sin_comorb  \\\n",
              "2      'Público'   'Comunitario'  '0'       '0'  ...       '0'        '0'   \n",
              "18     'Público'      'Contacto'  '0'       '0'  ...       '0'        '0'   \n",
              "32     'Público'   'Comunitario'  '0'       '0'  ...       '0'        '0'   \n",
              "54     'Privado'   'Comunitario'  '0'       '0'  ...       '0'        '0'   \n",
              "66     'Público'      'Contacto'  '0'       '0'  ...       '0'        '0'   \n",
              "\n",
              "   tuberculosis ex fumador fumador dialisis aguda dialisis cronica embarazada  \\\n",
              "2           '0'        '0'     '0'            '0'              '0'       'NO'   \n",
              "18          '0'        '0'     '0'            '0'              '0'         ''   \n",
              "32          '0'        '0'     '0'            '0'              '0'         ''   \n",
              "54          '0'        '0'     '0'            '0'              '0'         ''   \n",
              "66          '0'        '1'     '0'            '0'              '0'         ''   \n",
              "\n",
              "    distrito fraccion censal  \n",
              "2        NaN             NaN  \n",
              "18  SUDOESTE              45  \n",
              "32       NaN             NaN  \n",
              "54     NORTE              09  \n",
              "66     NORTE              04  \n",
              "\n",
              "[5 rows x 33 columns]"
            ],
            "text/html": [
              "\n",
              "  <div id=\"df-43275830-4404-4640-a0a5-e109fb924cc6\">\n",
              "    <div class=\"colab-df-container\">\n",
              "      <div>\n",
              "<style scoped>\n",
              "    .dataframe tbody tr th:only-of-type {\n",
              "        vertical-align: middle;\n",
              "    }\n",
              "\n",
              "    .dataframe tbody tr th {\n",
              "        vertical-align: top;\n",
              "    }\n",
              "\n",
              "    .dataframe thead th {\n",
              "        text-align: right;\n",
              "    }\n",
              "</style>\n",
              "<table border=\"1\" class=\"dataframe\">\n",
              "  <thead>\n",
              "    <tr style=\"text-align: right;\">\n",
              "      <th></th>\n",
              "      <th>sexo</th>\n",
              "      <th>edad</th>\n",
              "      <th>sintoma</th>\n",
              "      <th>fecha de inicio de sintomas</th>\n",
              "      <th>min fecha toma de muestra</th>\n",
              "      <th>fecha fallecimineto</th>\n",
              "      <th>clasificacion</th>\n",
              "      <th>clasif_epidemio</th>\n",
              "      <th>asma</th>\n",
              "      <th>bajo peso</th>\n",
              "      <th>...</th>\n",
              "      <th>prematuro</th>\n",
              "      <th>sin_comorb</th>\n",
              "      <th>tuberculosis</th>\n",
              "      <th>ex fumador</th>\n",
              "      <th>fumador</th>\n",
              "      <th>dialisis aguda</th>\n",
              "      <th>dialisis cronica</th>\n",
              "      <th>embarazada</th>\n",
              "      <th>distrito</th>\n",
              "      <th>fraccion censal</th>\n",
              "    </tr>\n",
              "  </thead>\n",
              "  <tbody>\n",
              "    <tr>\n",
              "      <th>2</th>\n",
              "      <td>'F'</td>\n",
              "      <td>'70'</td>\n",
              "      <td>'Cefalea; Fiebre (mayor o igual a 38°); Malest...</td>\n",
              "      <td>'23/04/2021'</td>\n",
              "      <td>'26/04/2021'</td>\n",
              "      <td>'18/05/2021'</td>\n",
              "      <td>'Público'</td>\n",
              "      <td>'Comunitario'</td>\n",
              "      <td>'0'</td>\n",
              "      <td>'0'</td>\n",
              "      <td>...</td>\n",
              "      <td>'0'</td>\n",
              "      <td>'0'</td>\n",
              "      <td>'0'</td>\n",
              "      <td>'0'</td>\n",
              "      <td>'0'</td>\n",
              "      <td>'0'</td>\n",
              "      <td>'0'</td>\n",
              "      <td>'NO'</td>\n",
              "      <td>NaN</td>\n",
              "      <td>NaN</td>\n",
              "    </tr>\n",
              "    <tr>\n",
              "      <th>18</th>\n",
              "      <td>'M'</td>\n",
              "      <td>'70'</td>\n",
              "      <td>''</td>\n",
              "      <td>'07/05/2021'</td>\n",
              "      <td>'07/05/2021'</td>\n",
              "      <td>'26/05/2021'</td>\n",
              "      <td>'Público'</td>\n",
              "      <td>'Contacto'</td>\n",
              "      <td>'0'</td>\n",
              "      <td>'0'</td>\n",
              "      <td>...</td>\n",
              "      <td>'0'</td>\n",
              "      <td>'0'</td>\n",
              "      <td>'0'</td>\n",
              "      <td>'0'</td>\n",
              "      <td>'0'</td>\n",
              "      <td>'0'</td>\n",
              "      <td>'0'</td>\n",
              "      <td>''</td>\n",
              "      <td>SUDOESTE</td>\n",
              "      <td>45</td>\n",
              "    </tr>\n",
              "    <tr>\n",
              "      <th>32</th>\n",
              "      <td>'M'</td>\n",
              "      <td>'70'</td>\n",
              "      <td>''</td>\n",
              "      <td>'07/03/2021'</td>\n",
              "      <td>'11/03/2021'</td>\n",
              "      <td>'20/05/2021'</td>\n",
              "      <td>'Público'</td>\n",
              "      <td>'Comunitario'</td>\n",
              "      <td>'0'</td>\n",
              "      <td>'0'</td>\n",
              "      <td>...</td>\n",
              "      <td>'0'</td>\n",
              "      <td>'0'</td>\n",
              "      <td>'0'</td>\n",
              "      <td>'0'</td>\n",
              "      <td>'0'</td>\n",
              "      <td>'0'</td>\n",
              "      <td>'0'</td>\n",
              "      <td>''</td>\n",
              "      <td>NaN</td>\n",
              "      <td>NaN</td>\n",
              "    </tr>\n",
              "    <tr>\n",
              "      <th>54</th>\n",
              "      <td>'M'</td>\n",
              "      <td>'70'</td>\n",
              "      <td>'Fiebre (mayor o igual a 38°); Insuficiencia r...</td>\n",
              "      <td>'06/04/2021'</td>\n",
              "      <td>'09/04/2021'</td>\n",
              "      <td>'27/04/2021'</td>\n",
              "      <td>'Privado'</td>\n",
              "      <td>'Comunitario'</td>\n",
              "      <td>'0'</td>\n",
              "      <td>'0'</td>\n",
              "      <td>...</td>\n",
              "      <td>'0'</td>\n",
              "      <td>'0'</td>\n",
              "      <td>'0'</td>\n",
              "      <td>'0'</td>\n",
              "      <td>'0'</td>\n",
              "      <td>'0'</td>\n",
              "      <td>'0'</td>\n",
              "      <td>''</td>\n",
              "      <td>NORTE</td>\n",
              "      <td>09</td>\n",
              "    </tr>\n",
              "    <tr>\n",
              "      <th>66</th>\n",
              "      <td>'M'</td>\n",
              "      <td>'70'</td>\n",
              "      <td>'Disnea; Fiebre menor a 38°; Tos'</td>\n",
              "      <td>'02/06/2021'</td>\n",
              "      <td>'03/06/2021'</td>\n",
              "      <td>'05/06/2021'</td>\n",
              "      <td>'Público'</td>\n",
              "      <td>'Contacto'</td>\n",
              "      <td>'0'</td>\n",
              "      <td>'0'</td>\n",
              "      <td>...</td>\n",
              "      <td>'0'</td>\n",
              "      <td>'0'</td>\n",
              "      <td>'0'</td>\n",
              "      <td>'1'</td>\n",
              "      <td>'0'</td>\n",
              "      <td>'0'</td>\n",
              "      <td>'0'</td>\n",
              "      <td>''</td>\n",
              "      <td>NORTE</td>\n",
              "      <td>04</td>\n",
              "    </tr>\n",
              "  </tbody>\n",
              "</table>\n",
              "<p>5 rows × 33 columns</p>\n",
              "</div>\n",
              "      <button class=\"colab-df-convert\" onclick=\"convertToInteractive('df-43275830-4404-4640-a0a5-e109fb924cc6')\"\n",
              "              title=\"Convert this dataframe to an interactive table.\"\n",
              "              style=\"display:none;\">\n",
              "        \n",
              "  <svg xmlns=\"http://www.w3.org/2000/svg\" height=\"24px\"viewBox=\"0 0 24 24\"\n",
              "       width=\"24px\">\n",
              "    <path d=\"M0 0h24v24H0V0z\" fill=\"none\"/>\n",
              "    <path d=\"M18.56 5.44l.94 2.06.94-2.06 2.06-.94-2.06-.94-.94-2.06-.94 2.06-2.06.94zm-11 1L8.5 8.5l.94-2.06 2.06-.94-2.06-.94L8.5 2.5l-.94 2.06-2.06.94zm10 10l.94 2.06.94-2.06 2.06-.94-2.06-.94-.94-2.06-.94 2.06-2.06.94z\"/><path d=\"M17.41 7.96l-1.37-1.37c-.4-.4-.92-.59-1.43-.59-.52 0-1.04.2-1.43.59L10.3 9.45l-7.72 7.72c-.78.78-.78 2.05 0 2.83L4 21.41c.39.39.9.59 1.41.59.51 0 1.02-.2 1.41-.59l7.78-7.78 2.81-2.81c.8-.78.8-2.07 0-2.86zM5.41 20L4 18.59l7.72-7.72 1.47 1.35L5.41 20z\"/>\n",
              "  </svg>\n",
              "      </button>\n",
              "      \n",
              "  <style>\n",
              "    .colab-df-container {\n",
              "      display:flex;\n",
              "      flex-wrap:wrap;\n",
              "      gap: 12px;\n",
              "    }\n",
              "\n",
              "    .colab-df-convert {\n",
              "      background-color: #E8F0FE;\n",
              "      border: none;\n",
              "      border-radius: 50%;\n",
              "      cursor: pointer;\n",
              "      display: none;\n",
              "      fill: #1967D2;\n",
              "      height: 32px;\n",
              "      padding: 0 0 0 0;\n",
              "      width: 32px;\n",
              "    }\n",
              "\n",
              "    .colab-df-convert:hover {\n",
              "      background-color: #E2EBFA;\n",
              "      box-shadow: 0px 1px 2px rgba(60, 64, 67, 0.3), 0px 1px 3px 1px rgba(60, 64, 67, 0.15);\n",
              "      fill: #174EA6;\n",
              "    }\n",
              "\n",
              "    [theme=dark] .colab-df-convert {\n",
              "      background-color: #3B4455;\n",
              "      fill: #D2E3FC;\n",
              "    }\n",
              "\n",
              "    [theme=dark] .colab-df-convert:hover {\n",
              "      background-color: #434B5C;\n",
              "      box-shadow: 0px 1px 3px 1px rgba(0, 0, 0, 0.15);\n",
              "      filter: drop-shadow(0px 1px 2px rgba(0, 0, 0, 0.3));\n",
              "      fill: #FFFFFF;\n",
              "    }\n",
              "  </style>\n",
              "\n",
              "      <script>\n",
              "        const buttonEl =\n",
              "          document.querySelector('#df-43275830-4404-4640-a0a5-e109fb924cc6 button.colab-df-convert');\n",
              "        buttonEl.style.display =\n",
              "          google.colab.kernel.accessAllowed ? 'block' : 'none';\n",
              "\n",
              "        async function convertToInteractive(key) {\n",
              "          const element = document.querySelector('#df-43275830-4404-4640-a0a5-e109fb924cc6');\n",
              "          const dataTable =\n",
              "            await google.colab.kernel.invokeFunction('convertToInteractive',\n",
              "                                                     [key], {});\n",
              "          if (!dataTable) return;\n",
              "\n",
              "          const docLinkHtml = 'Like what you see? Visit the ' +\n",
              "            '<a target=\"_blank\" href=https://colab.research.google.com/notebooks/data_table.ipynb>data table notebook</a>'\n",
              "            + ' to learn more about interactive tables.';\n",
              "          element.innerHTML = '';\n",
              "          dataTable['output_type'] = 'display_data';\n",
              "          await google.colab.output.renderOutput(dataTable, element);\n",
              "          const docLink = document.createElement('div');\n",
              "          docLink.innerHTML = docLinkHtml;\n",
              "          element.appendChild(docLink);\n",
              "        }\n",
              "      </script>\n",
              "    </div>\n",
              "  </div>\n",
              "  "
            ]
          },
          "metadata": {},
          "execution_count": 25
        }
      ]
    },
    {
      "cell_type": "markdown",
      "source": [
        "Ahora que tenemos seleccionadas las personas fallecidas, queremos ver qué porcentaje de ellas cumplían con algún factor de riesgo (asma, diabetes, obesidad, bajo peso, fumador o ex fumador, hipertensión arterial)."
      ],
      "metadata": {
        "id": "AitYbvImwp-A"
      }
    },
    {
      "cell_type": "code",
      "source": [
        "#CE 17\n",
        "\n",
        "personas_asmaticas = personas_fallecidas.loc[personas_fallecidas[\"asma\"] == \"'1'\"]\n",
        "print(\"Personas asmaticas:\", personas_asmaticas[\"asma\"].count() )\n",
        "print(\"Porcentaje del total de los fallecidos:\", \"%.2f\"%((personas_asmaticas[\"asma\"].count()/1949)*100), \"%\")\n"
      ],
      "metadata": {
        "colab": {
          "base_uri": "https://localhost:8080/"
        },
        "id": "_5A-YL6cxBSZ",
        "outputId": "a5fa5225-740d-4e7b-86d1-d4e3488bab95"
      },
      "execution_count": null,
      "outputs": [
        {
          "output_type": "stream",
          "name": "stdout",
          "text": [
            "Personas asmaticas: 68\n",
            "Porcentaje del total de los fallecidos: 3.49 %\n"
          ]
        }
      ]
    },
    {
      "cell_type": "code",
      "source": [
        "#CE 18\n",
        "\n",
        "personas_diabeticas = personas_fallecidas.loc[personas_fallecidas['diabetes'] == \"'1'\"]\n",
        "print(\"Personas diabeticas:\", personas_diabeticas[\"diabetes\"].count() )\n",
        "print(\"Porcentaje del total de los fallecidos:\", \"%.2f\"%((personas_diabeticas[\"diabetes\"].count()/1949)*100), \"%\")"
      ],
      "metadata": {
        "id": "lY235iNf3QYh",
        "colab": {
          "base_uri": "https://localhost:8080/"
        },
        "outputId": "1cc6e9f9-eeec-4da9-d314-d75830bbf33b"
      },
      "execution_count": null,
      "outputs": [
        {
          "output_type": "stream",
          "name": "stdout",
          "text": [
            "Personas diabeticas: 341\n",
            "Porcentaje del total de los fallecidos: 17.50 %\n"
          ]
        }
      ]
    },
    {
      "cell_type": "code",
      "source": [
        "#CE 19\n",
        "\n",
        "personas_obesas = personas_fallecidas.loc[personas_fallecidas['obesidad'] == \"'1'\"]\n",
        "print(\"Personas obesas:\", personas_obesas[\"obesidad\"].count() )\n",
        "print(\"Porcentaje del total de los fallecidos:\", \"%.2f\"%((personas_obesas[\"obesidad\"].count()/1949)*100), \"%\")"
      ],
      "metadata": {
        "id": "1jZvyE2I3Tee",
        "colab": {
          "base_uri": "https://localhost:8080/"
        },
        "outputId": "31bb1fe8-56e0-4128-87ae-bc5decab58c4"
      },
      "execution_count": null,
      "outputs": [
        {
          "output_type": "stream",
          "name": "stdout",
          "text": [
            "Personas obesas: 141\n",
            "Porcentaje del total de los fallecidos: 7.23 %\n"
          ]
        }
      ]
    },
    {
      "cell_type": "code",
      "source": [
        "#CE 20\n",
        "\n",
        "personas_bajo_peso = personas_fallecidas.loc[personas_fallecidas['bajo peso'] == \"'1'\"]\n",
        "print(\"Personas con bajo peso:\", personas_bajo_peso[\"bajo peso\"].count() )\n",
        "print(\"Porcentaje del total de los fallecidos:\", \"%.2f\"%((personas_bajo_peso[\"bajo peso\"].count()/1949)*100), \"%\")"
      ],
      "metadata": {
        "id": "tBHRSUD73WPC",
        "colab": {
          "base_uri": "https://localhost:8080/"
        },
        "outputId": "21c754d0-6cab-40a1-ff82-f1d9aad66961"
      },
      "execution_count": null,
      "outputs": [
        {
          "output_type": "stream",
          "name": "stdout",
          "text": [
            "Personas con bajo peso: 1\n",
            "Porcentaje del total de los fallecidos: 0.05 %\n"
          ]
        }
      ]
    },
    {
      "cell_type": "code",
      "source": [
        "#CE 21\n",
        "\n",
        "personas_fumadoras = personas_fallecidas.loc[personas_fallecidas['fumador'] == \"'1'\"]\n",
        "print(\"Personas fumadoras:\", personas_fumadoras[\"fumador\"].count() )\n",
        "print(\"Porcentaje del total de los fallecidos:\", \"%.2f\"%((personas_fumadoras[\"fumador\"].count()/1949)*100), \"%\")"
      ],
      "metadata": {
        "id": "uxyI2DYs3Yif",
        "colab": {
          "base_uri": "https://localhost:8080/"
        },
        "outputId": "3f4439cf-782d-4ce6-a3ca-9449d044b61d"
      },
      "execution_count": null,
      "outputs": [
        {
          "output_type": "stream",
          "name": "stdout",
          "text": [
            "Personas fumadoras: 29\n",
            "Porcentaje del total de los fallecidos: 1.49 %\n"
          ]
        }
      ]
    },
    {
      "cell_type": "code",
      "source": [
        "#CE 22\n",
        "\n",
        "personas_ex_fumadoras = personas_fallecidas.loc[personas_fallecidas['ex fumador'] == \"'1'\"]\n",
        "print(\"Personas ex fumadoras:\", personas_ex_fumadoras[\"ex fumador\"].count() )\n",
        "print(\"Porcentaje del total de los fallecidos:\", \"%.2f\"%((personas_ex_fumadoras[\"ex fumador\"].count()/1949)*100), \"%\")"
      ],
      "metadata": {
        "id": "YrM_Dozm3bbc",
        "colab": {
          "base_uri": "https://localhost:8080/"
        },
        "outputId": "dae9413e-c6d4-48e7-a16d-af5c62cd4d8f"
      },
      "execution_count": null,
      "outputs": [
        {
          "output_type": "stream",
          "name": "stdout",
          "text": [
            "Personas ex fumadoras: 88\n",
            "Porcentaje del total de los fallecidos: 4.52 %\n"
          ]
        }
      ]
    },
    {
      "cell_type": "code",
      "source": [
        "#CE 23\n",
        "\n",
        "personas_hipertensas = personas_fallecidas.loc[personas_fallecidas[\"hipertension arterial\"] == \"'1'\"]\n",
        "print(\"Personas hipertensas:\", personas_hipertensas[\"hipertension arterial\"].count() )\n",
        "print(\"Porcentaje del total de los fallecidos:\", \"%.2f\"%((personas_hipertensas[\"hipertension arterial\"].count()/1949)*100), \"%\")"
      ],
      "metadata": {
        "colab": {
          "base_uri": "https://localhost:8080/"
        },
        "id": "9LLbkS0PUmSI",
        "outputId": "bde1764b-374e-48d7-a4ac-06114ed8caf4"
      },
      "execution_count": null,
      "outputs": [
        {
          "output_type": "stream",
          "name": "stdout",
          "text": [
            "Personas hipertensas: 644\n",
            "Porcentaje del total de los fallecidos: 33.04 %\n"
          ]
        }
      ]
    },
    {
      "cell_type": "markdown",
      "source": [
        "A continuación se presentan los resultados en un gráfico de barras."
      ],
      "metadata": {
        "id": "XvnlnwtCVslK"
      }
    },
    {
      "cell_type": "code",
      "source": [
        "#CE 24\n",
        "\n",
        "# Declaramos valores para el eje x\n",
        "eje_x = ['asmatico', 'diabetico', 'obeso', 'bajo-peso', 'fumador', 'exfumad', 'hipertenso']\n",
        "\n",
        "# Declaramos valores para el eje y\n",
        "eje_y = [3.49,17.50,7.23,0.05,1.49,4.52, 33.04]\n",
        "\n",
        "# Creamos Gráfica\n",
        "plt.bar(eje_x, eje_y)\n",
        "\n",
        "# Legenda en el eje y\n",
        "plt.ylabel('Porcentaje de fallecidos [%]')\n",
        "\n",
        "# Legenda en el eje x\n",
        "plt.xlabel('Factores de riesgo')\n",
        "\n",
        "# Título de Gráfica\n",
        "plt.title('Porcentaje de fallecidos con factores de riesgo')\n",
        "\n",
        "# Mostramos Gráfica\n",
        "plt.autoscale(enable=True, axis='x', tight=True)\n",
        "plt.show()"
      ],
      "metadata": {
        "colab": {
          "base_uri": "https://localhost:8080/",
          "height": 295
        },
        "id": "fE36t76fTPCc",
        "outputId": "b2a8133d-c889-4978-cd5c-d64320ea2f92"
      },
      "execution_count": null,
      "outputs": [
        {
          "output_type": "display_data",
          "data": {
            "text/plain": [
              "<Figure size 432x288 with 1 Axes>"
            ],
            "image/png": "[encoded data removed]"
          },
          "metadata": {
            "needs_background": "light"
          }
        }
      ]
    },
    {
      "cell_type": "markdown",
      "source": [
        "De estos resultados puede verse que el porcentaje de los fallecidos pertenecientes a los distintos grupos de riesgo fué significativo para las personas hipertensas, diabeticas y obesas. En total, los fallecidos con estos tres factores de riesgo suman el 57,77% de los fallecidos totales, lo cual es un porcentaje significativo.\n",
        "Los factores de riesgo hallados están de acuerdo con otros estudios hechos sobre poblaciones mas grandes, como se ilustrea en *Mahamat-­Saleh Y, et al. (2021) Diabetes, hypertension, body mass index, smoking and COVID-19-related mortality: a systematic review and meta-analysis of observational studies. BMJ Open. (https://bmjopen.bmj.com/content/11/10/e052777)*"
      ],
      "metadata": {
        "id": "ao1ZZEHbTuHq"
      }
    },
    {
      "cell_type": "markdown",
      "source": [
        "Por último, se calcula:\n",
        "\n",
        "*   La tasa de letalidad en Rosario\n",
        "*   El porcentaje de recuperados\n",
        "*   La tasa de incidencia por edad\n",
        "*   La tasa de incidencia total\n",
        "*   La razón de casos\n",
        "\n",
        "Los resultados que se obtienen no son comparables con los datos oficiales de la Municipalidad de Rosario, pues los informes que se publican en su página oficial son semanales, mientras que la base de datos aquí analizada es anual.\n",
        "Asimismo, se comparan algunos resultados con los obtenidos desde la página *Our World In Data* para Argentina en el año 2021."
      ],
      "metadata": {
        "id": "43FKogh7pde5"
      }
    },
    {
      "cell_type": "code",
      "source": [
        "#CE 25\n",
        "#Los datos a utilizar deben ser cargados en colab antes de correr esta celda.\n",
        "\n",
        "Arg2021='/content/covid_arg_2021.csv'\n",
        "df_Arg2021=pd.read_csv(Arg2021)\n"
      ],
      "metadata": {
        "id": "azg8OISCgZ6M"
      },
      "execution_count": null,
      "outputs": []
    },
    {
      "cell_type": "code",
      "source": [
        "#CE 26\n",
        "#Arg2021\n",
        "df_Arg2021.head()"
      ],
      "metadata": {
        "colab": {
          "base_uri": "https://localhost:8080/",
          "height": 386
        },
        "id": "fpwjGmNukd_F",
        "outputId": "b480fc36-3bde-427e-f6df-fa9cb0f185b9"
      },
      "execution_count": null,
      "outputs": [
        {
          "output_type": "execute_result",
          "data": {
            "text/plain": [
              "  iso_code      continent   location        date  total_cases  new_cases  \\\n",
              "0      ARG  South America  Argentina  2021-01-01      1629594       4080   \n",
              "1      ARG  South America  Argentina  2021-01-02      1634834       5240   \n",
              "2      ARG  South America  Argentina  2021-01-03      1640718       5884   \n",
              "3      ARG  South America  Argentina  2021-01-04      1648940       8222   \n",
              "4      ARG  South America  Argentina  2021-01-05      1662730      13790   \n",
              "\n",
              "   new_cases_smoothed  total_deaths  new_deaths  new_deaths_smoothed  ...  \\\n",
              "0            7862.857         43319          74              128.143  ...   \n",
              "1            8081.000         43375          56              124.857  ...   \n",
              "2            8203.000         43482         107              118.857  ...   \n",
              "3            8346.714         43634         152              109.429  ...   \n",
              "4            8652.429         43785         151              109.571  ...   \n",
              "\n",
              "   female_smokers  male_smokers  handwashing_facilities  \\\n",
              "0            16.2          27.7                     NaN   \n",
              "1            16.2          27.7                     NaN   \n",
              "2            16.2          27.7                     NaN   \n",
              "3            16.2          27.7                     NaN   \n",
              "4            16.2          27.7                     NaN   \n",
              "\n",
              "   hospital_beds_per_thousand  life_expectancy  human_development_index  \\\n",
              "0                           5            76.67                    0.845   \n",
              "1                           5            76.67                    0.845   \n",
              "2                           5            76.67                    0.845   \n",
              "3                           5            76.67                    0.845   \n",
              "4                           5            76.67                    0.845   \n",
              "\n",
              "   excess_mortality_cumulative_absolute  excess_mortality_cumulative  \\\n",
              "0                                   NaN                          NaN   \n",
              "1                                   NaN                          NaN   \n",
              "2                                   NaN                          NaN   \n",
              "3                                   NaN                          NaN   \n",
              "4                                   NaN                          NaN   \n",
              "\n",
              "   excess_mortality  excess_mortality_cumulative_per_million  \n",
              "0               NaN                                      NaN  \n",
              "1               NaN                                      NaN  \n",
              "2               NaN                                      NaN  \n",
              "3               NaN                                      NaN  \n",
              "4               NaN                                      NaN  \n",
              "\n",
              "[5 rows x 67 columns]"
            ],
            "text/html": [
              "\n",
              "  <div id=\"df-aa5332e4-dcea-41ed-84ca-43e1c7893798\">\n",
              "    <div class=\"colab-df-container\">\n",
              "      <div>\n",
              "<style scoped>\n",
              "    .dataframe tbody tr th:only-of-type {\n",
              "        vertical-align: middle;\n",
              "    }\n",
              "\n",
              "    .dataframe tbody tr th {\n",
              "        vertical-align: top;\n",
              "    }\n",
              "\n",
              "    .dataframe thead th {\n",
              "        text-align: right;\n",
              "    }\n",
              "</style>\n",
              "<table border=\"1\" class=\"dataframe\">\n",
              "  <thead>\n",
              "    <tr style=\"text-align: right;\">\n",
              "      <th></th>\n",
              "      <th>iso_code</th>\n",
              "      <th>continent</th>\n",
              "      <th>location</th>\n",
              "      <th>date</th>\n",
              "      <th>total_cases</th>\n",
              "      <th>new_cases</th>\n",
              "      <th>new_cases_smoothed</th>\n",
              "      <th>total_deaths</th>\n",
              "      <th>new_deaths</th>\n",
              "      <th>new_deaths_smoothed</th>\n",
              "      <th>...</th>\n",
              "      <th>female_smokers</th>\n",
              "      <th>male_smokers</th>\n",
              "      <th>handwashing_facilities</th>\n",
              "      <th>hospital_beds_per_thousand</th>\n",
              "      <th>life_expectancy</th>\n",
              "      <th>human_development_index</th>\n",
              "      <th>excess_mortality_cumulative_absolute</th>\n",
              "      <th>excess_mortality_cumulative</th>\n",
              "      <th>excess_mortality</th>\n",
              "      <th>excess_mortality_cumulative_per_million</th>\n",
              "    </tr>\n",
              "  </thead>\n",
              "  <tbody>\n",
              "    <tr>\n",
              "      <th>0</th>\n",
              "      <td>ARG</td>\n",
              "      <td>South America</td>\n",
              "      <td>Argentina</td>\n",
              "      <td>2021-01-01</td>\n",
              "      <td>1629594</td>\n",
              "      <td>4080</td>\n",
              "      <td>7862.857</td>\n",
              "      <td>43319</td>\n",
              "      <td>74</td>\n",
              "      <td>128.143</td>\n",
              "      <td>...</td>\n",
              "      <td>16.2</td>\n",
              "      <td>27.7</td>\n",
              "      <td>NaN</td>\n",
              "      <td>5</td>\n",
              "      <td>76.67</td>\n",
              "      <td>0.845</td>\n",
              "      <td>NaN</td>\n",
              "      <td>NaN</td>\n",
              "      <td>NaN</td>\n",
              "      <td>NaN</td>\n",
              "    </tr>\n",
              "    <tr>\n",
              "      <th>1</th>\n",
              "      <td>ARG</td>\n",
              "      <td>South America</td>\n",
              "      <td>Argentina</td>\n",
              "      <td>2021-01-02</td>\n",
              "      <td>1634834</td>\n",
              "      <td>5240</td>\n",
              "      <td>8081.000</td>\n",
              "      <td>43375</td>\n",
              "      <td>56</td>\n",
              "      <td>124.857</td>\n",
              "      <td>...</td>\n",
              "      <td>16.2</td>\n",
              "      <td>27.7</td>\n",
              "      <td>NaN</td>\n",
              "      <td>5</td>\n",
              "      <td>76.67</td>\n",
              "      <td>0.845</td>\n",
              "      <td>NaN</td>\n",
              "      <td>NaN</td>\n",
              "      <td>NaN</td>\n",
              "      <td>NaN</td>\n",
              "    </tr>\n",
              "    <tr>\n",
              "      <th>2</th>\n",
              "      <td>ARG</td>\n",
              "      <td>South America</td>\n",
              "      <td>Argentina</td>\n",
              "      <td>2021-01-03</td>\n",
              "      <td>1640718</td>\n",
              "      <td>5884</td>\n",
              "      <td>8203.000</td>\n",
              "      <td>43482</td>\n",
              "      <td>107</td>\n",
              "      <td>118.857</td>\n",
              "      <td>...</td>\n",
              "      <td>16.2</td>\n",
              "      <td>27.7</td>\n",
              "      <td>NaN</td>\n",
              "      <td>5</td>\n",
              "      <td>76.67</td>\n",
              "      <td>0.845</td>\n",
              "      <td>NaN</td>\n",
              "      <td>NaN</td>\n",
              "      <td>NaN</td>\n",
              "      <td>NaN</td>\n",
              "    </tr>\n",
              "    <tr>\n",
              "      <th>3</th>\n",
              "      <td>ARG</td>\n",
              "      <td>South America</td>\n",
              "      <td>Argentina</td>\n",
              "      <td>2021-01-04</td>\n",
              "      <td>1648940</td>\n",
              "      <td>8222</td>\n",
              "      <td>8346.714</td>\n",
              "      <td>43634</td>\n",
              "      <td>152</td>\n",
              "      <td>109.429</td>\n",
              "      <td>...</td>\n",
              "      <td>16.2</td>\n",
              "      <td>27.7</td>\n",
              "      <td>NaN</td>\n",
              "      <td>5</td>\n",
              "      <td>76.67</td>\n",
              "      <td>0.845</td>\n",
              "      <td>NaN</td>\n",
              "      <td>NaN</td>\n",
              "      <td>NaN</td>\n",
              "      <td>NaN</td>\n",
              "    </tr>\n",
              "    <tr>\n",
              "      <th>4</th>\n",
              "      <td>ARG</td>\n",
              "      <td>South America</td>\n",
              "      <td>Argentina</td>\n",
              "      <td>2021-01-05</td>\n",
              "      <td>1662730</td>\n",
              "      <td>13790</td>\n",
              "      <td>8652.429</td>\n",
              "      <td>43785</td>\n",
              "      <td>151</td>\n",
              "      <td>109.571</td>\n",
              "      <td>...</td>\n",
              "      <td>16.2</td>\n",
              "      <td>27.7</td>\n",
              "      <td>NaN</td>\n",
              "      <td>5</td>\n",
              "      <td>76.67</td>\n",
              "      <td>0.845</td>\n",
              "      <td>NaN</td>\n",
              "      <td>NaN</td>\n",
              "      <td>NaN</td>\n",
              "      <td>NaN</td>\n",
              "    </tr>\n",
              "  </tbody>\n",
              "</table>\n",
              "<p>5 rows × 67 columns</p>\n",
              "</div>\n",
              "      <button class=\"colab-df-convert\" onclick=\"convertToInteractive('df-aa5332e4-dcea-41ed-84ca-43e1c7893798')\"\n",
              "              title=\"Convert this dataframe to an interactive table.\"\n",
              "              style=\"display:none;\">\n",
              "        \n",
              "  <svg xmlns=\"http://www.w3.org/2000/svg\" height=\"24px\"viewBox=\"0 0 24 24\"\n",
              "       width=\"24px\">\n",
              "    <path d=\"M0 0h24v24H0V0z\" fill=\"none\"/>\n",
              "    <path d=\"M18.56 5.44l.94 2.06.94-2.06 2.06-.94-2.06-.94-.94-2.06-.94 2.06-2.06.94zm-11 1L8.5 8.5l.94-2.06 2.06-.94-2.06-.94L8.5 2.5l-.94 2.06-2.06.94zm10 10l.94 2.06.94-2.06 2.06-.94-2.06-.94-.94-2.06-.94 2.06-2.06.94z\"/><path d=\"M17.41 7.96l-1.37-1.37c-.4-.4-.92-.59-1.43-.59-.52 0-1.04.2-1.43.59L10.3 9.45l-7.72 7.72c-.78.78-.78 2.05 0 2.83L4 21.41c.39.39.9.59 1.41.59.51 0 1.02-.2 1.41-.59l7.78-7.78 2.81-2.81c.8-.78.8-2.07 0-2.86zM5.41 20L4 18.59l7.72-7.72 1.47 1.35L5.41 20z\"/>\n",
              "  </svg>\n",
              "      </button>\n",
              "      \n",
              "  <style>\n",
              "    .colab-df-container {\n",
              "      display:flex;\n",
              "      flex-wrap:wrap;\n",
              "      gap: 12px;\n",
              "    }\n",
              "\n",
              "    .colab-df-convert {\n",
              "      background-color: #E8F0FE;\n",
              "      border: none;\n",
              "      border-radius: 50%;\n",
              "      cursor: pointer;\n",
              "      display: none;\n",
              "      fill: #1967D2;\n",
              "      height: 32px;\n",
              "      padding: 0 0 0 0;\n",
              "      width: 32px;\n",
              "    }\n",
              "\n",
              "    .colab-df-convert:hover {\n",
              "      background-color: #E2EBFA;\n",
              "      box-shadow: 0px 1px 2px rgba(60, 64, 67, 0.3), 0px 1px 3px 1px rgba(60, 64, 67, 0.15);\n",
              "      fill: #174EA6;\n",
              "    }\n",
              "\n",
              "    [theme=dark] .colab-df-convert {\n",
              "      background-color: #3B4455;\n",
              "      fill: #D2E3FC;\n",
              "    }\n",
              "\n",
              "    [theme=dark] .colab-df-convert:hover {\n",
              "      background-color: #434B5C;\n",
              "      box-shadow: 0px 1px 3px 1px rgba(0, 0, 0, 0.15);\n",
              "      filter: drop-shadow(0px 1px 2px rgba(0, 0, 0, 0.3));\n",
              "      fill: #FFFFFF;\n",
              "    }\n",
              "  </style>\n",
              "\n",
              "      <script>\n",
              "        const buttonEl =\n",
              "          document.querySelector('#df-aa5332e4-dcea-41ed-84ca-43e1c7893798 button.colab-df-convert');\n",
              "        buttonEl.style.display =\n",
              "          google.colab.kernel.accessAllowed ? 'block' : 'none';\n",
              "\n",
              "        async function convertToInteractive(key) {\n",
              "          const element = document.querySelector('#df-aa5332e4-dcea-41ed-84ca-43e1c7893798');\n",
              "          const dataTable =\n",
              "            await google.colab.kernel.invokeFunction('convertToInteractive',\n",
              "                                                     [key], {});\n",
              "          if (!dataTable) return;\n",
              "\n",
              "          const docLinkHtml = 'Like what you see? Visit the ' +\n",
              "            '<a target=\"_blank\" href=https://colab.research.google.com/notebooks/data_table.ipynb>data table notebook</a>'\n",
              "            + ' to learn more about interactive tables.';\n",
              "          element.innerHTML = '';\n",
              "          dataTable['output_type'] = 'display_data';\n",
              "          await google.colab.output.renderOutput(dataTable, element);\n",
              "          const docLink = document.createElement('div');\n",
              "          docLink.innerHTML = docLinkHtml;\n",
              "          element.appendChild(docLink);\n",
              "        }\n",
              "      </script>\n",
              "    </div>\n",
              "  </div>\n",
              "  "
            ]
          },
          "metadata": {},
          "execution_count": 35
        }
      ]
    },
    {
      "cell_type": "code",
      "source": [
        "#CE 27\n",
        "#Cálculo de la tasa de letalidad\n",
        "\n",
        "#Rosario2021\n",
        "total_personas=len(df.index)\n",
        "personas_fallecidas=df['fecha fallecimineto'].notnull().sum()\n",
        "TL=(personas_fallecidas/total_personas)*100\n",
        "print(\"La tasa de letalidad del virus en la ciudad de Rosario en el año 2021 fué de: \" ,\"%.2f\"%TL ,'%')\n",
        "\n",
        "#Arg2021\n",
        "tot_personas=df_Arg2021.iloc[2,48]\n",
        "pers_fallecidas=df_Arg2021['new_deaths'].sum()\n",
        "TL_Arg=(pers_fallecidas/tot_personas)*100\n",
        "print(\"La tasa de letalidad del virus en Argentina en el año 2021 fué de: \" ,\"%.2f\"%TL_Arg ,'%')\n"
      ],
      "metadata": {
        "colab": {
          "base_uri": "https://localhost:8080/"
        },
        "id": "f_GGDO8WiY9J",
        "outputId": "be0e0737-9f34-4dfe-8a5d-b1eb1e1c9b52"
      },
      "execution_count": null,
      "outputs": [
        {
          "output_type": "stream",
          "name": "stdout",
          "text": [
            "La tasa de letalidad del virus en la ciudad de Rosario en el año 2021 fué de:  1.85 %\n",
            "La tasa de letalidad del virus en Argentina en el año 2021 fué de:  0.16 %\n"
          ]
        }
      ]
    },
    {
      "cell_type": "code",
      "source": [
        "#CE 28\n",
        "\n",
        "# Eje x\n",
        "eje_x = ['Rosario', 'Argentina']\n",
        "\n",
        "# Eje y\n",
        "eje_y = [1.85,0.16]\n",
        "\n",
        "plt.bar(eje_x, eje_y)\n",
        "\n",
        "plt.ylabel('Tasa de letalidad del virus [%]')\n",
        "plt.xlabel('Lugar geográfico')\n",
        "\n",
        "# Título de Gráfica\n",
        "plt.title('Tasa de letalidad del virus en Rosario y Argentina')\n",
        "\n",
        "plt.show()"
      ],
      "metadata": {
        "id": "5YD_2ljCV-Sm",
        "colab": {
          "base_uri": "https://localhost:8080/",
          "height": 296
        },
        "outputId": "193214c9-4ab7-416f-ba16-098ccff8e1a2"
      },
      "execution_count": null,
      "outputs": [
        {
          "output_type": "display_data",
          "data": {
            "text/plain": [
              "<Figure size 432x288 with 1 Axes>"
            ],
            "image/png": "[encoded data removed]"
          },
          "metadata": {
            "needs_background": "light"
          }
        }
      ]
    },
    {
      "cell_type": "markdown",
      "source": [
        "La tasa de letalidad del virus fué mucho menor a nivel nacional que a nivel local. Esto puede deberse a que Rosario es una ciudad grande con una densidad de población alta, mientras que la mayoría de las ciudades en el país son menos densas y por lo tanto es esperable que una enfermedad contagiosa afecte menos.\n"
      ],
      "metadata": {
        "id": "lB9QR337xEd3"
      }
    },
    {
      "cell_type": "code",
      "source": [
        "#CE 29\n",
        "#Cálculo del porcentaje de recuperados\n",
        "\n",
        "#Rosario2021\n",
        "personas_recuperadas= df['fecha fallecimineto'].isnull().sum()\n",
        "print(\"El porcentaje de recuperados en la ciudad de Rosario en el año 2021 fué de: \" ,\"%.2f\"%((personas_recuperadas/total_personas)*100),'%')\n",
        "\n",
        "#Arg2021\n",
        "tot_personas=df_Arg2021.iloc[2,48]\n",
        "pers_fallecidas=df_Arg2021['new_deaths'].sum()\n",
        "TL_Arg=(pers_fallecidas/tot_personas)*100\n",
        "print(\"El porcentaje de recuperados en Argentina en el año 2021 fué de:  \" ,\"%.2f\"%(100-TL_Arg) ,'%')"
      ],
      "metadata": {
        "colab": {
          "base_uri": "https://localhost:8080/"
        },
        "id": "oGu3n-_6kOJa",
        "outputId": "9edd845a-aa7d-4f4b-ae13-fb3d60991d32"
      },
      "execution_count": null,
      "outputs": [
        {
          "output_type": "stream",
          "name": "stdout",
          "text": [
            "El porcentaje de recuperados en la ciudad de Rosario en el año 2021 fué de:  98.15 %\n",
            "El porcentaje de recuperados en Argentina en el año 2021 fué de:   99.84 %\n"
          ]
        }
      ]
    },
    {
      "cell_type": "code",
      "source": [
        "#CE 30\n",
        "#Cálculo de la tasa de incidencia\n",
        "\n",
        "#Para calcular la tasa de incidencia por edad, se divide el total de confirmados en tres grupos\n",
        "#Grupo1= 0-19 años, Grupo2=20-59 años y Grupo3=+60 años\n",
        "\n",
        "#Se utilizan datos poblacionales de la ciudad de Rosario obtenidos a través de la página de la Municipalidad.\n",
        "poblacion='https://datosabiertos.rosario.gob.ar/sites/default/files/proyecciones_por_distrito_segun_grupo_de_edad_quinquenal_y_sexo_estimadas_al_1_de_julio_de_2021_-_rosario.csv'\n",
        "pob=pd.read_csv(poblacion)\n",
        "headers=[\"Ambito\", \"Sector\", \"Sexo\", \"Total\", \"0-4\", \"5-9\", \"10-14\", \"15-19\", \"20-24\", \"25-29\", \"30-34\", \"35-39\", \"40-44\", \"45-49\", \"50-54\", \"55-59\", \"60-64\", \"65-69\", \"70-74\", \"75-79\", \"80-84\", \"+85\" ]\n",
        "pob.columns = headers\n",
        "#Ref: Datos poblacionales de la ciudad de Rosario en el año 2021.\n",
        "\n",
        "grupo1=pob.iloc[20,4:8].sum()\n",
        "grupo2=pob.iloc[20,8:16].sum()\n",
        "grupo3=pob.iloc[20,16:].sum()\n",
        "\n",
        "#Hasta aquí hemos calculado la población total de los distintos grupos etarios de Rosario.\n",
        "#Calculemos ahora la cantidad de casos confirmados por grupo etario.\n",
        "\n",
        "confirmados1 = df.loc[df[\"edad\"] < \"'20'\"]\n",
        "confirmados2 = df.loc[ (df[\"edad\"] >= \"'20'\") & (df[\"edad\"] < \"'60'\") ]\n",
        "confirmados3 = df.loc[df[\"edad\"] >= \"'60'\"]\n",
        "\n",
        "#Ahora solo resta calcular la tasa de incidencia para cada grupo\n",
        "\n",
        "TI1=(confirmados1[\"edad\"].count()/grupo1)*100000\n",
        "TI2=(confirmados2[\"edad\"].count()/grupo2)*100000\n",
        "TI3=(confirmados3[\"edad\"].count()/grupo3)*100000\n",
        "\n",
        "print(\"La tasa de incidencia por edad para cada grupo etario es de: \", \"%.2f\"%TI1, \"para el grupo 1, \", \"%.2f\"%TI2, \"para el grupo 2, y \",\"%.2f\"%TI3)\n",
        "print(\"para el tercer grupo a lo largo de todo el 2021, por cada 100.000 habitantes.\" )\n",
        "\n"
      ],
      "metadata": {
        "colab": {
          "base_uri": "https://localhost:8080/"
        },
        "id": "IG3G1HHMoGri",
        "outputId": "79faf316-ed0b-4c4f-f496-44f4efbf3f65"
      },
      "execution_count": null,
      "outputs": [
        {
          "output_type": "stream",
          "name": "stdout",
          "text": [
            "La tasa de incidencia por edad para cada grupo etario es de:  3125.83 para el grupo 1,  14737.26 para el grupo 2, y  9344.67\n",
            "para el tercer grupo a lo largo de todo el 2021, por cada 100.000 habitantes.\n"
          ]
        }
      ]
    },
    {
      "cell_type": "code",
      "source": [
        "#CE 31\n",
        "\n",
        "# Eje x\n",
        "eje_x = ['0-19', '20-59', '+60']\n",
        "\n",
        "# Eje y\n",
        "eje_y = [3125.8,14737.3,9344.7]\n",
        "\n",
        "plt.bar(eje_x, eje_y)\n",
        "\n",
        "plt.ylabel('Tasa de indicencia por edad cada 100.000 habitantes')\n",
        "plt.xlabel('Grupo etario')\n",
        "\n",
        "# Título de Gráfica\n",
        "plt.title('Tasa de incidencia por edad del virus en Rosario')\n",
        "\n",
        "plt.show()"
      ],
      "metadata": {
        "id": "sR6x244AXClC",
        "colab": {
          "base_uri": "https://localhost:8080/",
          "height": 304
        },
        "outputId": "78cca697-d31c-4edf-ee30-57b3ab236a1a"
      },
      "execution_count": null,
      "outputs": [
        {
          "output_type": "display_data",
          "data": {
            "text/plain": [
              "<Figure size 432x288 with 1 Axes>"
            ],
            "image/png": "[encoded data removed]"
          },
          "metadata": {
            "needs_background": "light"
          }
        }
      ]
    },
    {
      "cell_type": "code",
      "source": [
        "#CE 32\n",
        "#Calculo de la tasa de incidencia total\n",
        "\n",
        "#Rosario2021\n",
        "poblacion_total=pob.iloc[20,3]\n",
        "confirmados_total=len(df.index)\n",
        "\n",
        "IA=(confirmados_total/poblacion_total)*100000\n",
        "\n",
        "print(\"La tasa de incidencia total del virus sobre la ciudad de Rosario en el año 2021 fué de: \", \"%.2f\"%IA, \"cada 100.000 habitantes\")\n",
        "\n",
        "#Arg2021\n",
        "tot_personas=df_Arg2021.iloc[2,48]\n",
        "\n",
        "#Para el total de casos confirmados se tomaron los datos disponibles en (https://datosmacro.expansion.com/otros/coronavirus/argentina?anio=2020) y\n",
        "#(https://datosmacro.expansion.com/otros/coronavirus/argentina?anio=2021)\n",
        "#Donde se tomó el valor de casos confirmados en el año 2021 y se le restó el mismo correspondiente al año 2020, dando un total de 4.028.894 casos para el 2021\n",
        "\n",
        "IA_Arg=(4028894/tot_personas)*100000\n",
        "\n",
        "\n",
        "print(\"La tasa de incidencia total del virus en Argentina en el año 2021 fué de: \", \"%.2f\"%IA_Arg, \"cada 100.000 habitantes\")"
      ],
      "metadata": {
        "colab": {
          "base_uri": "https://localhost:8080/"
        },
        "id": "uBsZxSLQIHNf",
        "outputId": "a20b0309-45c8-4263-b481-4dc17503fafc"
      },
      "execution_count": null,
      "outputs": [
        {
          "output_type": "stream",
          "name": "stdout",
          "text": [
            "La tasa de incidencia total del virus sobre la ciudad de Rosario en el año 2021 fué de:  10527.89 cada 100.000 habitantes\n",
            "La tasa de incidencia total del virus en Argentina en el año 2021 fué de:  8834.17 cada 100.000 habitantes\n"
          ]
        }
      ]
    },
    {
      "cell_type": "code",
      "source": [
        "#CE 33\n",
        "\n",
        "# Eje x\n",
        "eje_x = ['Rosario', 'Argentina']\n",
        "\n",
        "# Eje y\n",
        "eje_y = [10527.9,8834.2]\n",
        "\n",
        "plt.bar(eje_x, eje_y)\n",
        "\n",
        "plt.ylabel('Tasa de incidencia total del virus cada 100.000 habitantes')\n",
        "plt.xlabel('Lugar geográfico')\n",
        "\n",
        "# Título de Gráfica\n",
        "plt.title('Tasa de incidencia total del virus en Rosario y Argentina')\n",
        "\n",
        "plt.show()"
      ],
      "metadata": {
        "id": "VwYT--eFXpuv",
        "colab": {
          "base_uri": "https://localhost:8080/",
          "height": 322
        },
        "outputId": "d0144cf0-9767-4044-f68f-140f717d3e3a"
      },
      "execution_count": null,
      "outputs": [
        {
          "output_type": "display_data",
          "data": {
            "text/plain": [
              "<Figure size 432x288 with 1 Axes>"
            ],
            "image/png": "[encoded data removed]"
          },
          "metadata": {
            "needs_background": "light"
          }
        }
      ]
    },
    {
      "cell_type": "markdown",
      "source": [
        "La incidencia del virus a nivel nacional y a nivel local son muy similares, estando ambas en el orden de los 8k a 10k de contagios por millón de habitantes.\n",
        "\n",
        "A su vez, la tasa de incidencia por edades muestra un maximo marcado en las personas de entre 20 y 59 años, que al ser el grupo mas numeroso, podría tener una correspondencia con la tasa de incidencia total en ciudades densamente pobladas como Rosario, Buenos aires y Cordoba.\n"
      ],
      "metadata": {
        "id": "1Rgf97AM4HK4"
      }
    },
    {
      "cell_type": "code",
      "source": [
        "#CE 34\n",
        "#Cálculo de la razón de casos\n",
        "\n",
        "#Para calcular la razón de casos entre dos períodos consecutivos (período 2020 y 2021) se hace uso de las bases de datos de casos confirmados\n",
        "#del año 2020, puesto a disposición por la municipalidad de Rosario.\n",
        "\n",
        "\n",
        "#Rosario\n",
        "datos2020='https://datosabiertos.rosario.gob.ar/sites/default/files/confirmadoscovid19sisarosario2020_0.csv'\n",
        "df2020=pd.read_csv(datos2020)\n",
        "#Ref: Datos abiertos de Covid-19. Municipalidad de Rosario.\n",
        "\n",
        "#Luego, hacemos el cociente entre el total de casos en el año 2021 respecto al 2020\n",
        "\n",
        "R=(len(df.index)/len(df2020.index))\n",
        "print(\"La razón de casos es: \", \"%.2f\"%R, \"Lo cual indica que hubo un aumento de casos respecto del período anterior.\")\n",
        "\n",
        "#Arg\n",
        "#Mismo análisis para los casos en Argentina en los años 2020 y 2021\n",
        "\n",
        "#Aquí nuevamente se utilizan los datos extraídos de la página (https://datosmacro.expansion.com/otros/coronavirus/argentina?anio=2020) y\n",
        "#(https://datosmacro.expansion.com/otros/coronavirus/argentina?anio=2021)\n",
        "\n",
        "R_Arg=(5654408/1625514)\n",
        "print(\"La razón de casos es: \", \"%.2f\"%R_Arg, \"Lo cual también indica que hubo un aumento de casos respecto del período anterior.\")"
      ],
      "metadata": {
        "colab": {
          "base_uri": "https://localhost:8080/"
        },
        "id": "38gikOz5LoWa",
        "outputId": "1a96a9e3-f4d9-4f91-a2dc-bd42a8b0cb5c"
      },
      "execution_count": null,
      "outputs": [
        {
          "output_type": "stream",
          "name": "stdout",
          "text": [
            "La razón de casos es:  1.52 Lo cual indica que hubo un aumento de casos respecto del período anterior.\n",
            "La razón de casos es:  3.48 Lo cual también indica que hubo un aumento de casos respecto del período anterior.\n"
          ]
        }
      ]
    },
    {
      "cell_type": "code",
      "source": [
        "#CE 35\n",
        "\n",
        "# Eje x\n",
        "eje_x = ['Rosario', 'Argentina']\n",
        "\n",
        "# Eje y\n",
        "eje_y = [1.52,3.48]\n",
        "\n",
        "plt.bar(eje_x, eje_y)\n",
        "\n",
        "plt.ylabel('Razón de casos')\n",
        "plt.xlabel('Lugar geográfico')\n",
        "\n",
        "# Título de Gráfica\n",
        "plt.title('Razón de casos en Rosario y Argentina en el año 2021 respecto al 2020')\n",
        "\n",
        "plt.show()"
      ],
      "metadata": {
        "id": "uE8HJYpvYESH",
        "colab": {
          "base_uri": "https://localhost:8080/",
          "height": 296
        },
        "outputId": "6290c02c-23ee-4cb8-8219-91d269f9946e"
      },
      "execution_count": null,
      "outputs": [
        {
          "output_type": "display_data",
          "data": {
            "text/plain": [
              "<Figure size 432x288 with 1 Axes>"
            ],
            "image/png": "[encoded data removed]"
          },
          "metadata": {
            "needs_background": "light"
          }
        }
      ]
    },
    {
      "cell_type": "markdown",
      "source": [
        "La razón de casos confirmados entre los años 2020 y 2021 a nivel nacional fué mucho mayor que a nivel local, lo que conincide con los registros de las olas de casos que se vivieron a nivel país durante el período 2021."
      ],
      "metadata": {
        "id": "uGX3b69m6tj4"
      }
    },
    {
      "cell_type": "markdown",
      "metadata": {
        "id": "7tOXNJZ7FTrQ"
      },
      "source": [
        "\n",
        "\n",
        "---\n",
        "\n"
      ]
    },
    {
      "cell_type": "markdown",
      "metadata": {
        "id": "GFxLflgyDIfb"
      },
      "source": [
        "# **CONCLUSIONES**\n",
        "\n",
        "El objetivo de este trabajo fué hacer un análisis de la situación epidemiológica causada por el virus SARS-CoV-2 en la ciudad de Rosario en el año 2021.\n",
        "\n",
        "Para este fin se utilizaron las librerías `Pandas, Matplotlib, NumPy` y `Seaborn` de Python.\n",
        "\n",
        "A partir de este análisis se conlcuye que el distrito *Centro* fué el distrito con más casos durante el período analizado [#CE 11]. La mayor cantidad de casos ocurrieron por contagio comunitario [#CE 13], y el sexo no juega un ningún rol en la enfermedad [#CE 15].\n",
        "\n",
        "También se observó que los factores de riesgo seleccionados (asma, diabetes, obesidad, bajo peso, fumador, ex fumador e hipertensión arterial) contribuyeron de forma significativa a las defunciones causadas por el virus en la ciudad [#CE 17-23]. Los resultados obtenidos están de acuerdo con otras fuentes que realizaron el mismo análisis de los factores de riesgo en bases de datos mas grandes. *Mahamat-­Saleh Y, et al. (2021) Diabetes, hypertension, body mass index, smoking and COVID-19-related mortality: a systematic review and meta-analysis of observational studies. BMJ Open. (https://bmjopen.bmj.com/content/11/10/e052777)*\n",
        "\n",
        "También se calculó la *tasa de letalidad* del virus en la ciudad de Rosario: 1.85 %, y en Argentina: 0.16 %, donde se ve que la tasa de letalidad del virus fué increíblemente menor a nivel nacional que a nivel local [#CE 27-28]. Luego, el *porcentaje de recuperados* en la ciudad de Rosario fué de 98.15 % y en Argentina de 99.84 % [#CE 29].\n",
        "\n",
        "La *tasa de incidencia por edad* para cada grupo etario fué de 3125.83 para personas menores a 20 años,  14737.26 para personas entre 20 y 60 años, y  9344.67 para personas mayores a 60 años a lo largo de todo el 2021, por cada 100.000 habitantes en la ciudad de Rosario [#CE 30-31].\n",
        "El grupo etario con mayores contagios durante el período seleccionado fué el que abarca edades entre los 20 y 60 años, quizás porque es el grupo etario que mas personas comprende de los tres estudiados.\n",
        "\n",
        "La *tasa de incidencia total* del virus sobre la ciudad de Rosario fué de 10527.89, y en Argentina de 8834.17, cada 100.000 habitantes. La incidencia del virus a nivel nacional es apenas menor que la incidencia local en la ciudad. A su vez, la tasa de incidencia por edades muestra un maximo marcado en las personas de entre 20 y 59 años, que al ser el grupo mas numeroso, podría tener una correspondencia con la tasa de incidencia total en ciudades densamente pobladas como Rosario, Buenos aires y Cordoba. [#CE 32-33].\n",
        "\n",
        "Por último, la *razon de casos* en la ciudad de Rosario fué de 1.52, y en Argentina de 3.48, lo cual indica que hubo un aumento de casos respecto del período anterior en ambos casos, lo que conincide con los registros de las olas de casos que se vivieron a nivel país durante el período 2021 [#CE 34-35]."
      ]
    },
    {
      "cell_type": "markdown",
      "metadata": {
        "id": "WbqwMG8bFU2m"
      },
      "source": [
        "\n",
        "\n",
        "---\n",
        "\n"
      ]
    },
    {
      "cell_type": "markdown",
      "metadata": {
        "id": "TpMEbi5FthRD"
      },
      "source": [
        "# **REFERENCIAS**\n",
        "\n",
        "* Datos abiertos de Covid-19. Municipalidad de Rosario. (https://datosabiertos.rosario.gob.ar/dataset/coronavirus-covid-19)\n",
        "\n",
        "* Datos abiertos de Covid-19. Our World In Data. (https://ourworldindata.org/coronavirus/country/argentina)\n",
        "\n",
        "* Datos poblacionales de la ciudad de Rosario en el año 2021.  Municipalidad de Rosario. (https://datosabiertos.rosario.gob.ar/dataset/poblaci%C3%B3n-2021)\n",
        "\n",
        "* Argentina - COVID-19 - Crisis del coronavirus. Expansión/Datosmacro.com. (https://datosmacro.expansion.com/otros/coronavirus/argentina?anio=2020),\n",
        "(https://datosmacro.expansion.com/otros/coronavirus/argentina?anio=2021)\n",
        "\n",
        "* Mahamat-­Saleh Y, et al. (2021) Diabetes, hypertension, body mass index, smoking and COVID-19-related mortality: a systematic review and meta-analysis of observational studies. BMJ Open. (https://bmjopen.bmj.com/content/11/10/e052777)\n",
        "\n",
        "* Moreno-Altamirano A y col. (2000). Principales medidas en epidemiología. Mexico: Salud pública de méxico.\n",
        "\n",
        "* Tableros e informes de situación epidemilógica. Municipalidad de Rosario. (https://www.rosario.gob.ar/inicio/coronavirus)\n",
        "\n",
        "* Wikipedia: Tasa de letalidad (https://es.wikipedia.org/wiki/Tasa_de_letalidad)\n"
      ]
    },
    {
      "cell_type": "markdown",
      "metadata": {
        "id": "7xxFnSvstnqZ"
      },
      "source": [
        "\n",
        "\n",
        "---\n",
        "\n"
      ]
    }
  ]
}